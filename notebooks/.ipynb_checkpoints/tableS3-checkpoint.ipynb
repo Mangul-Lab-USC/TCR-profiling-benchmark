{
 "cells": [
  {
   "cell_type": "code",
   "execution_count": 1,
   "metadata": {},
   "outputs": [],
   "source": [
    "import pandas as pd\n",
    "import numpy as np\n",
    "from scipy import stats\n",
    "\n",
    "import warnings\n",
    "warnings.simplefilter(action=\"ignore\", category=FutureWarning)"
   ]
  },
  {
   "cell_type": "code",
   "execution_count": 2,
   "metadata": {},
   "outputs": [],
   "source": [
    "samples = ['sample01','sample02','sample03','sample04','sample05','sample06','sample07','sample08',\n",
    "           'sample09','sample10','sample11','sample12','sample13','sample14',\n",
    "            'SRR5233639','SRR5233637','TCGA-CZ-4862','TCGA-CZ-5463','TCGA-CZ-5985']"
   ]
  },
  {
   "cell_type": "code",
   "execution_count": 3,
   "metadata": {},
   "outputs": [],
   "source": [
    "columns = ['th', 'observed_portion_frequency', 'sample']\n",
    "df_MIXCR = pd.DataFrame(columns=columns)\n",
    "\n",
    "for sample in samples: \n",
    "    df_temp_aa = pd.read_csv('../summary_data/original/capturing_per_sample/capturing_MIXCR_'+sample+'.csv')\n",
    "    df_temp_aa['th'] = df_temp_aa['th']*100\n",
    "    \n",
    "    df_temp_aa['sample'] = sample\n",
    "\n",
    "    df_MIXCR = pd.concat([df_MIXCR, df_temp_aa], ignore_index=True, sort=False)\n",
    "    df_MIXCR['tool'] = 'MIXCR'"
   ]
  },
  {
   "cell_type": "code",
   "execution_count": 4,
   "metadata": {},
   "outputs": [],
   "source": [
    "columns = ['th', 'observed_portion_frequency', 'sample']\n",
    "df_IMREP = pd.DataFrame(columns=columns)\n",
    "\n",
    "for sample in samples: \n",
    "    df_temp_aa = pd.read_csv('../summary_data/original/capturing_per_sample/capturing_IMREP_'+sample+'.csv')\n",
    "    df_temp_aa['th'] = df_temp_aa['th']*100\n",
    "    \n",
    "    df_temp_aa['sample'] = sample\n",
    "\n",
    "    df_IMREP = pd.concat([df_IMREP, df_temp_aa], ignore_index=True,sort=False)\n",
    "    df_IMREP['tool'] = 'IMREP'"
   ]
  },
  {
   "cell_type": "code",
   "execution_count": 5,
   "metadata": {},
   "outputs": [],
   "source": [
    "columns = ['th', 'observed_portion_frequency', 'sample']\n",
    "df_TRUST4 = pd.DataFrame(columns=columns)\n",
    "\n",
    "for sample in samples: \n",
    "    df_temp_aa = pd.read_csv('../summary_data/original/capturing_per_sample/capturing_TRUST4_'+sample+'.csv')\n",
    "    df_temp_aa['th'] = df_temp_aa['th']*100\n",
    "   \n",
    "    df_temp_aa['sample'] = sample\n",
    "\n",
    "    df_TRUST4 = pd.concat([df_TRUST4, df_temp_aa], ignore_index=True, sort=False)\n",
    "    df_TRUST4['tool'] = 'TRUST4'"
   ]
  },
  {
   "cell_type": "code",
   "execution_count": 6,
   "metadata": {},
   "outputs": [],
   "source": [
    "columns = ['th', 'observed_portion_frequency', 'sample']\n",
    "df_CATT = pd.DataFrame(columns=columns)\n",
    "\n",
    "for sample in samples: \n",
    "    df_temp_aa = pd.read_csv('../summary_data/original/capturing_per_sample/capturing_CATT_'+sample+'.csv')\n",
    "    df_temp_aa['th'] = df_temp_aa['th']*100\n",
    "   \n",
    "    df_temp_aa['sample'] = sample\n",
    "\n",
    "    df_CATT = pd.concat([df_CATT, df_temp_aa], ignore_index=True, sort=False)\n",
    "    df_CATT['tool'] = 'CATT'"
   ]
  },
  {
   "cell_type": "code",
   "execution_count": 7,
   "metadata": {},
   "outputs": [],
   "source": [
    "df_combined = pd.concat([df_MIXCR,df_IMREP,df_TRUST4,df_CATT], ignore_index=True, sort=False)\n",
    "df_combined['th'] = df_combined['th']"
   ]
  },
  {
   "cell_type": "code",
   "execution_count": 8,
   "metadata": {},
   "outputs": [],
   "source": [
    "df = pd.read_csv(\"../summary_data/original/all_tools_TRB_diversity.csv\")\n",
    "\n",
    "tissue_type = df[['Sample','class','tissue_type','repertoire_type']].drop_duplicates(keep='first')\n",
    "tissue_type.rename(columns={'Sample':'sample'}, inplace=True)\n",
    "df_combined = pd.merge(df_combined, tissue_type, how='inner', on=['sample'])"
   ]
  },
  {
   "cell_type": "code",
   "execution_count": 9,
   "metadata": {},
   "outputs": [
    {
     "data": {
      "text/html": [
       "<div>\n",
       "<style scoped>\n",
       "    .dataframe tbody tr th:only-of-type {\n",
       "        vertical-align: middle;\n",
       "    }\n",
       "\n",
       "    .dataframe tbody tr th {\n",
       "        vertical-align: top;\n",
       "    }\n",
       "\n",
       "    .dataframe thead th {\n",
       "        text-align: right;\n",
       "    }\n",
       "</style>\n",
       "<table border=\"1\" class=\"dataframe\">\n",
       "  <thead>\n",
       "    <tr style=\"text-align: right;\">\n",
       "      <th></th>\n",
       "      <th>th</th>\n",
       "      <th>observed_portion_frequency</th>\n",
       "      <th>sample</th>\n",
       "      <th>tool</th>\n",
       "      <th>class</th>\n",
       "      <th>tissue_type</th>\n",
       "      <th>repertoire_type</th>\n",
       "    </tr>\n",
       "  </thead>\n",
       "  <tbody>\n",
       "    <tr>\n",
       "      <th>0</th>\n",
       "      <td>0.0</td>\n",
       "      <td>0.927752</td>\n",
       "      <td>sample01</td>\n",
       "      <td>MIXCR</td>\n",
       "      <td>T_cell_rich_low_SDI</td>\n",
       "      <td>T_cell_rich</td>\n",
       "      <td>low_SDI</td>\n",
       "    </tr>\n",
       "    <tr>\n",
       "      <th>100000</th>\n",
       "      <td>0.0</td>\n",
       "      <td>0.931384</td>\n",
       "      <td>sample01</td>\n",
       "      <td>IMREP</td>\n",
       "      <td>T_cell_rich_low_SDI</td>\n",
       "      <td>T_cell_rich</td>\n",
       "      <td>low_SDI</td>\n",
       "    </tr>\n",
       "    <tr>\n",
       "      <th>200000</th>\n",
       "      <td>0.0</td>\n",
       "      <td>0.934840</td>\n",
       "      <td>sample01</td>\n",
       "      <td>TRUST4</td>\n",
       "      <td>T_cell_rich_low_SDI</td>\n",
       "      <td>T_cell_rich</td>\n",
       "      <td>low_SDI</td>\n",
       "    </tr>\n",
       "    <tr>\n",
       "      <th>300000</th>\n",
       "      <td>0.0</td>\n",
       "      <td>0.932676</td>\n",
       "      <td>sample01</td>\n",
       "      <td>CATT</td>\n",
       "      <td>T_cell_rich_low_SDI</td>\n",
       "      <td>T_cell_rich</td>\n",
       "      <td>low_SDI</td>\n",
       "    </tr>\n",
       "    <tr>\n",
       "      <th>400000</th>\n",
       "      <td>0.0</td>\n",
       "      <td>0.920729</td>\n",
       "      <td>sample02</td>\n",
       "      <td>MIXCR</td>\n",
       "      <td>T_cell_rich_low_SDI</td>\n",
       "      <td>T_cell_rich</td>\n",
       "      <td>low_SDI</td>\n",
       "    </tr>\n",
       "    <tr>\n",
       "      <th>...</th>\n",
       "      <td>...</td>\n",
       "      <td>...</td>\n",
       "      <td>...</td>\n",
       "      <td>...</td>\n",
       "      <td>...</td>\n",
       "      <td>...</td>\n",
       "      <td>...</td>\n",
       "    </tr>\n",
       "    <tr>\n",
       "      <th>7100000</th>\n",
       "      <td>0.0</td>\n",
       "      <td>0.527295</td>\n",
       "      <td>TCGA-CZ-5463</td>\n",
       "      <td>CATT</td>\n",
       "      <td>T_cell_poor_high_SDI</td>\n",
       "      <td>T_cell_poor</td>\n",
       "      <td>high_SDI</td>\n",
       "    </tr>\n",
       "    <tr>\n",
       "      <th>7200000</th>\n",
       "      <td>0.0</td>\n",
       "      <td>0.000000</td>\n",
       "      <td>TCGA-CZ-5985</td>\n",
       "      <td>MIXCR</td>\n",
       "      <td>T_cell_poor_high_SDI</td>\n",
       "      <td>T_cell_poor</td>\n",
       "      <td>high_SDI</td>\n",
       "    </tr>\n",
       "    <tr>\n",
       "      <th>7300000</th>\n",
       "      <td>0.0</td>\n",
       "      <td>0.057547</td>\n",
       "      <td>TCGA-CZ-5985</td>\n",
       "      <td>IMREP</td>\n",
       "      <td>T_cell_poor_high_SDI</td>\n",
       "      <td>T_cell_poor</td>\n",
       "      <td>high_SDI</td>\n",
       "    </tr>\n",
       "    <tr>\n",
       "      <th>7400000</th>\n",
       "      <td>0.0</td>\n",
       "      <td>0.092014</td>\n",
       "      <td>TCGA-CZ-5985</td>\n",
       "      <td>TRUST4</td>\n",
       "      <td>T_cell_poor_high_SDI</td>\n",
       "      <td>T_cell_poor</td>\n",
       "      <td>high_SDI</td>\n",
       "    </tr>\n",
       "    <tr>\n",
       "      <th>7500000</th>\n",
       "      <td>0.0</td>\n",
       "      <td>0.168411</td>\n",
       "      <td>TCGA-CZ-5985</td>\n",
       "      <td>CATT</td>\n",
       "      <td>T_cell_poor_high_SDI</td>\n",
       "      <td>T_cell_poor</td>\n",
       "      <td>high_SDI</td>\n",
       "    </tr>\n",
       "  </tbody>\n",
       "</table>\n",
       "<p>76 rows × 7 columns</p>\n",
       "</div>"
      ],
      "text/plain": [
       "          th  observed_portion_frequency        sample    tool  \\\n",
       "0        0.0                    0.927752      sample01   MIXCR   \n",
       "100000   0.0                    0.931384      sample01   IMREP   \n",
       "200000   0.0                    0.934840      sample01  TRUST4   \n",
       "300000   0.0                    0.932676      sample01    CATT   \n",
       "400000   0.0                    0.920729      sample02   MIXCR   \n",
       "...      ...                         ...           ...     ...   \n",
       "7100000  0.0                    0.527295  TCGA-CZ-5463    CATT   \n",
       "7200000  0.0                    0.000000  TCGA-CZ-5985   MIXCR   \n",
       "7300000  0.0                    0.057547  TCGA-CZ-5985   IMREP   \n",
       "7400000  0.0                    0.092014  TCGA-CZ-5985  TRUST4   \n",
       "7500000  0.0                    0.168411  TCGA-CZ-5985    CATT   \n",
       "\n",
       "                        class  tissue_type repertoire_type  \n",
       "0         T_cell_rich_low_SDI  T_cell_rich         low_SDI  \n",
       "100000    T_cell_rich_low_SDI  T_cell_rich         low_SDI  \n",
       "200000    T_cell_rich_low_SDI  T_cell_rich         low_SDI  \n",
       "300000    T_cell_rich_low_SDI  T_cell_rich         low_SDI  \n",
       "400000    T_cell_rich_low_SDI  T_cell_rich         low_SDI  \n",
       "...                       ...          ...             ...  \n",
       "7100000  T_cell_poor_high_SDI  T_cell_poor        high_SDI  \n",
       "7200000  T_cell_poor_high_SDI  T_cell_poor        high_SDI  \n",
       "7300000  T_cell_poor_high_SDI  T_cell_poor        high_SDI  \n",
       "7400000  T_cell_poor_high_SDI  T_cell_poor        high_SDI  \n",
       "7500000  T_cell_poor_high_SDI  T_cell_poor        high_SDI  \n",
       "\n",
       "[76 rows x 7 columns]"
      ]
     },
     "execution_count": 9,
     "metadata": {},
     "output_type": "execute_result"
    }
   ],
   "source": [
    "portion = df_combined.loc[df_combined['th'] == 0]\n",
    "portion"
   ]
  },
  {
   "cell_type": "code",
   "execution_count": 10,
   "metadata": {},
   "outputs": [
    {
     "data": {
      "text/html": [
       "<div>\n",
       "<style scoped>\n",
       "    .dataframe tbody tr th:only-of-type {\n",
       "        vertical-align: middle;\n",
       "    }\n",
       "\n",
       "    .dataframe tbody tr th {\n",
       "        vertical-align: top;\n",
       "    }\n",
       "\n",
       "    .dataframe thead th {\n",
       "        text-align: right;\n",
       "    }\n",
       "</style>\n",
       "<table border=\"1\" class=\"dataframe\">\n",
       "  <thead>\n",
       "    <tr style=\"text-align: right;\">\n",
       "      <th></th>\n",
       "      <th></th>\n",
       "      <th>mean</th>\n",
       "      <th>std</th>\n",
       "    </tr>\n",
       "    <tr>\n",
       "      <th>class</th>\n",
       "      <th>tool</th>\n",
       "      <th></th>\n",
       "      <th></th>\n",
       "    </tr>\n",
       "  </thead>\n",
       "  <tbody>\n",
       "    <tr>\n",
       "      <th rowspan=\"4\" valign=\"top\">T_cell_poor_high_SDI</th>\n",
       "      <th>CATT</th>\n",
       "      <td>0.187147</td>\n",
       "      <td>0.151146</td>\n",
       "    </tr>\n",
       "    <tr>\n",
       "      <th>IMREP</th>\n",
       "      <td>0.135212</td>\n",
       "      <td>0.144851</td>\n",
       "    </tr>\n",
       "    <tr>\n",
       "      <th>MIXCR</th>\n",
       "      <td>0.065509</td>\n",
       "      <td>0.075887</td>\n",
       "    </tr>\n",
       "    <tr>\n",
       "      <th>TRUST4</th>\n",
       "      <td>0.196882</td>\n",
       "      <td>0.176464</td>\n",
       "    </tr>\n",
       "    <tr>\n",
       "      <th rowspan=\"4\" valign=\"top\">T_cell_poor_low_SDI</th>\n",
       "      <th>CATT</th>\n",
       "      <td>0.759611</td>\n",
       "      <td>NaN</td>\n",
       "    </tr>\n",
       "    <tr>\n",
       "      <th>IMREP</th>\n",
       "      <td>0.759302</td>\n",
       "      <td>NaN</td>\n",
       "    </tr>\n",
       "    <tr>\n",
       "      <th>MIXCR</th>\n",
       "      <td>0.771268</td>\n",
       "      <td>NaN</td>\n",
       "    </tr>\n",
       "    <tr>\n",
       "      <th>TRUST4</th>\n",
       "      <td>0.767794</td>\n",
       "      <td>NaN</td>\n",
       "    </tr>\n",
       "    <tr>\n",
       "      <th rowspan=\"4\" valign=\"top\">T_cell_rich_high_SDI</th>\n",
       "      <th>CATT</th>\n",
       "      <td>0.106577</td>\n",
       "      <td>0.095847</td>\n",
       "    </tr>\n",
       "    <tr>\n",
       "      <th>IMREP</th>\n",
       "      <td>0.119767</td>\n",
       "      <td>0.118781</td>\n",
       "    </tr>\n",
       "    <tr>\n",
       "      <th>MIXCR</th>\n",
       "      <td>0.084657</td>\n",
       "      <td>0.079821</td>\n",
       "    </tr>\n",
       "    <tr>\n",
       "      <th>TRUST4</th>\n",
       "      <td>0.137865</td>\n",
       "      <td>0.129327</td>\n",
       "    </tr>\n",
       "    <tr>\n",
       "      <th rowspan=\"4\" valign=\"top\">T_cell_rich_low_SDI</th>\n",
       "      <th>CATT</th>\n",
       "      <td>0.932529</td>\n",
       "      <td>0.008070</td>\n",
       "    </tr>\n",
       "    <tr>\n",
       "      <th>IMREP</th>\n",
       "      <td>0.932202</td>\n",
       "      <td>0.008335</td>\n",
       "    </tr>\n",
       "    <tr>\n",
       "      <th>MIXCR</th>\n",
       "      <td>0.928713</td>\n",
       "      <td>0.008505</td>\n",
       "    </tr>\n",
       "    <tr>\n",
       "      <th>TRUST4</th>\n",
       "      <td>0.934391</td>\n",
       "      <td>0.007488</td>\n",
       "    </tr>\n",
       "  </tbody>\n",
       "</table>\n",
       "</div>"
      ],
      "text/plain": [
       "                                 mean       std\n",
       "class                tool                      \n",
       "T_cell_poor_high_SDI CATT    0.187147  0.151146\n",
       "                     IMREP   0.135212  0.144851\n",
       "                     MIXCR   0.065509  0.075887\n",
       "                     TRUST4  0.196882  0.176464\n",
       "T_cell_poor_low_SDI  CATT    0.759611       NaN\n",
       "                     IMREP   0.759302       NaN\n",
       "                     MIXCR   0.771268       NaN\n",
       "                     TRUST4  0.767794       NaN\n",
       "T_cell_rich_high_SDI CATT    0.106577  0.095847\n",
       "                     IMREP   0.119767  0.118781\n",
       "                     MIXCR   0.084657  0.079821\n",
       "                     TRUST4  0.137865  0.129327\n",
       "T_cell_rich_low_SDI  CATT    0.932529  0.008070\n",
       "                     IMREP   0.932202  0.008335\n",
       "                     MIXCR   0.928713  0.008505\n",
       "                     TRUST4  0.934391  0.007488"
      ]
     },
     "metadata": {},
     "output_type": "display_data"
    }
   ],
   "source": [
    "mean_portion = portion.groupby([\"class\",\"tool\"])[\"observed_portion_frequency\"].agg([\"mean\", \"std\"]) \n",
    "display(mean_portion)"
   ]
  },
  {
   "cell_type": "markdown",
   "metadata": {},
   "source": [
    "## T_cell_rich_low_SDI samples"
   ]
  },
  {
   "cell_type": "code",
   "execution_count": 11,
   "metadata": {},
   "outputs": [],
   "source": [
    "T_cell_rich_low_SDI = portion.loc[portion['class'] == 'T_cell_rich_low_SDI']"
   ]
  },
  {
   "cell_type": "code",
   "execution_count": 12,
   "metadata": {},
   "outputs": [
    {
     "data": {
      "text/plain": [
       "Ttest_indResult(statistic=-0.5075701861322702, pvalue=0.6384616941484779)"
      ]
     },
     "execution_count": 12,
     "metadata": {},
     "output_type": "execute_result"
    }
   ],
   "source": [
    "df_group1 = T_cell_rich_low_SDI[T_cell_rich_low_SDI['tool'] == 'MIXCR']\n",
    "df_group2 = T_cell_rich_low_SDI[T_cell_rich_low_SDI['tool'] == 'IMREP']\n",
    "\n",
    "stats.ttest_ind(df_group1['observed_portion_frequency'],df_group2['observed_portion_frequency'])"
   ]
  },
  {
   "cell_type": "code",
   "execution_count": 13,
   "metadata": {},
   "outputs": [
    {
     "data": {
      "text/plain": [
       "Ttest_indResult(statistic=-0.8679121976592222, pvalue=0.4344108573086754)"
      ]
     },
     "execution_count": 13,
     "metadata": {},
     "output_type": "execute_result"
    }
   ],
   "source": [
    "df_group1 = T_cell_rich_low_SDI[T_cell_rich_low_SDI['tool'] == 'MIXCR']\n",
    "df_group2 = T_cell_rich_low_SDI[T_cell_rich_low_SDI['tool'] == 'TRUST4']\n",
    "\n",
    "stats.ttest_ind(df_group1['observed_portion_frequency'],df_group2['observed_portion_frequency'])"
   ]
  },
  {
   "cell_type": "code",
   "execution_count": 14,
   "metadata": {},
   "outputs": [
    {
     "data": {
      "text/plain": [
       "Ttest_indResult(statistic=-0.5637620092029205, pvalue=0.603022740115076)"
      ]
     },
     "execution_count": 14,
     "metadata": {},
     "output_type": "execute_result"
    }
   ],
   "source": [
    "df_group1 = T_cell_rich_low_SDI[T_cell_rich_low_SDI['tool'] == 'MIXCR']\n",
    "df_group2 = T_cell_rich_low_SDI[T_cell_rich_low_SDI['tool'] == 'CATT']\n",
    "\n",
    "stats.ttest_ind(df_group1['observed_portion_frequency'],df_group2['observed_portion_frequency'])"
   ]
  },
  {
   "cell_type": "code",
   "execution_count": 15,
   "metadata": {},
   "outputs": [
    {
     "data": {
      "text/plain": [
       "Ttest_indResult(statistic=-0.33832907158905223, pvalue=0.7521279345465594)"
      ]
     },
     "execution_count": 15,
     "metadata": {},
     "output_type": "execute_result"
    }
   ],
   "source": [
    "df_group1 = T_cell_rich_low_SDI[T_cell_rich_low_SDI['tool'] == 'IMREP']\n",
    "df_group2 = T_cell_rich_low_SDI[T_cell_rich_low_SDI['tool'] == 'TRUST4']\n",
    "\n",
    "stats.ttest_ind(df_group1['observed_portion_frequency'],df_group2['observed_portion_frequency'])"
   ]
  },
  {
   "cell_type": "code",
   "execution_count": 16,
   "metadata": {},
   "outputs": [
    {
     "data": {
      "text/plain": [
       "Ttest_indResult(statistic=-0.048734834568821765, pvalue=0.9634669486376922)"
      ]
     },
     "execution_count": 16,
     "metadata": {},
     "output_type": "execute_result"
    }
   ],
   "source": [
    "df_group1 = T_cell_rich_low_SDI[T_cell_rich_low_SDI['tool'] == 'IMREP']\n",
    "df_group2 = T_cell_rich_low_SDI[T_cell_rich_low_SDI['tool'] == 'CATT']\n",
    "\n",
    "stats.ttest_ind(df_group1['observed_portion_frequency'],df_group2['observed_portion_frequency'])"
   ]
  },
  {
   "cell_type": "code",
   "execution_count": 17,
   "metadata": {},
   "outputs": [
    {
     "data": {
      "text/plain": [
       "Ttest_indResult(statistic=0.29298957308320356, pvalue=0.7841011112316416)"
      ]
     },
     "execution_count": 17,
     "metadata": {},
     "output_type": "execute_result"
    }
   ],
   "source": [
    "df_group1 = T_cell_rich_low_SDI[T_cell_rich_low_SDI['tool'] == 'TRUST4']\n",
    "df_group2 = T_cell_rich_low_SDI[T_cell_rich_low_SDI['tool'] == 'CATT']\n",
    "\n",
    "stats.ttest_ind(df_group1['observed_portion_frequency'],df_group2['observed_portion_frequency'])"
   ]
  },
  {
   "cell_type": "markdown",
   "metadata": {},
   "source": [
    "## T_cell_rich_high_SDI samples"
   ]
  },
  {
   "cell_type": "code",
   "execution_count": 18,
   "metadata": {},
   "outputs": [],
   "source": [
    "T_cell_rich_high_SDI = portion.loc[portion['class'] == 'T_cell_rich_high_SDI']"
   ]
  },
  {
   "cell_type": "code",
   "execution_count": 19,
   "metadata": {},
   "outputs": [
    {
     "data": {
      "text/plain": [
       "Ttest_indResult(statistic=-0.42493445290693493, pvalue=0.6927461842203302)"
      ]
     },
     "execution_count": 19,
     "metadata": {},
     "output_type": "execute_result"
    }
   ],
   "source": [
    "df_group1 = T_cell_rich_high_SDI[T_cell_rich_high_SDI['tool'] == 'MIXCR']\n",
    "df_group2 = T_cell_rich_high_SDI[T_cell_rich_high_SDI['tool'] == 'IMREP']\n",
    "\n",
    "stats.ttest_ind(df_group1['observed_portion_frequency'],df_group2['observed_portion_frequency'])"
   ]
  },
  {
   "cell_type": "code",
   "execution_count": 20,
   "metadata": {},
   "outputs": [
    {
     "data": {
      "text/plain": [
       "Ttest_indResult(statistic=-0.606398128234843, pvalue=0.5769811381094867)"
      ]
     },
     "execution_count": 20,
     "metadata": {},
     "output_type": "execute_result"
    }
   ],
   "source": [
    "df_group1 = T_cell_rich_high_SDI[T_cell_rich_high_SDI['tool'] == 'MIXCR']\n",
    "df_group2 = T_cell_rich_high_SDI[T_cell_rich_high_SDI['tool'] == 'TRUST4']\n",
    "\n",
    "stats.ttest_ind(df_group1['observed_portion_frequency'],df_group2['observed_portion_frequency'])"
   ]
  },
  {
   "cell_type": "code",
   "execution_count": 21,
   "metadata": {},
   "outputs": [
    {
     "data": {
      "text/plain": [
       "Ttest_indResult(statistic=-0.30437465565421395, pvalue=0.7760204631367096)"
      ]
     },
     "execution_count": 21,
     "metadata": {},
     "output_type": "execute_result"
    }
   ],
   "source": [
    "df_group1 = T_cell_rich_high_SDI[T_cell_rich_high_SDI['tool'] == 'MIXCR']\n",
    "df_group2 = T_cell_rich_high_SDI[T_cell_rich_high_SDI['tool'] == 'CATT']\n",
    "\n",
    "stats.ttest_ind(df_group1['observed_portion_frequency'],df_group2['observed_portion_frequency'])"
   ]
  },
  {
   "cell_type": "code",
   "execution_count": 22,
   "metadata": {},
   "outputs": [
    {
     "data": {
      "text/plain": [
       "Ttest_indResult(statistic=-0.17850995808555148, pvalue=0.8669989664933072)"
      ]
     },
     "execution_count": 22,
     "metadata": {},
     "output_type": "execute_result"
    }
   ],
   "source": [
    "df_group1 = T_cell_rich_high_SDI[T_cell_rich_high_SDI['tool'] == 'IMREP']\n",
    "df_group2 = T_cell_rich_high_SDI[T_cell_rich_high_SDI['tool'] == 'TRUST4']\n",
    "\n",
    "stats.ttest_ind(df_group1['observed_portion_frequency'],df_group2['observed_portion_frequency'])"
   ]
  },
  {
   "cell_type": "code",
   "execution_count": 23,
   "metadata": {},
   "outputs": [
    {
     "data": {
      "text/plain": [
       "Ttest_indResult(statistic=0.1496905438172644, pvalue=0.888253114583344)"
      ]
     },
     "execution_count": 23,
     "metadata": {},
     "output_type": "execute_result"
    }
   ],
   "source": [
    "df_group1 = T_cell_rich_high_SDI[T_cell_rich_high_SDI['tool'] == 'IMREP']\n",
    "df_group2 = T_cell_rich_high_SDI[T_cell_rich_high_SDI['tool'] == 'CATT']\n",
    "\n",
    "stats.ttest_ind(df_group1['observed_portion_frequency'],df_group2['observed_portion_frequency'])"
   ]
  },
  {
   "cell_type": "code",
   "execution_count": 24,
   "metadata": {},
   "outputs": [
    {
     "data": {
      "text/plain": [
       "Ttest_indResult(statistic=0.33666085830138415, pvalue=0.7532942813115686)"
      ]
     },
     "execution_count": 24,
     "metadata": {},
     "output_type": "execute_result"
    }
   ],
   "source": [
    "df_group1 = T_cell_rich_high_SDI[T_cell_rich_high_SDI['tool'] == 'TRUST4']\n",
    "df_group2 = T_cell_rich_high_SDI[T_cell_rich_high_SDI['tool'] == 'CATT']\n",
    "\n",
    "stats.ttest_ind(df_group1['observed_portion_frequency'],df_group2['observed_portion_frequency'])"
   ]
  },
  {
   "cell_type": "markdown",
   "metadata": {},
   "source": [
    "## T_cell_poor_high_SDI samples"
   ]
  },
  {
   "cell_type": "code",
   "execution_count": 25,
   "metadata": {},
   "outputs": [],
   "source": [
    "T_cell_poor_high_SDI = portion.loc[portion['class'] == 'T_cell_poor_high_SDI']"
   ]
  },
  {
   "cell_type": "code",
   "execution_count": 26,
   "metadata": {},
   "outputs": [
    {
     "data": {
      "text/plain": [
       "Ttest_indResult(statistic=-1.4765704459871538, pvalue=0.15396263739846128)"
      ]
     },
     "execution_count": 26,
     "metadata": {},
     "output_type": "execute_result"
    }
   ],
   "source": [
    "df_group1 = T_cell_poor_high_SDI[T_cell_poor_high_SDI['tool'] == 'MIXCR']\n",
    "df_group2 = T_cell_poor_high_SDI[T_cell_poor_high_SDI['tool'] == 'IMREP']\n",
    "\n",
    "stats.ttest_ind(df_group1['observed_portion_frequency'],df_group2['observed_portion_frequency'])"
   ]
  },
  {
   "cell_type": "code",
   "execution_count": 27,
   "metadata": {},
   "outputs": [
    {
     "data": {
      "text/plain": [
       "Ttest_indResult(statistic=-2.3691403257946027, pvalue=0.02702705241260024)"
      ]
     },
     "execution_count": 27,
     "metadata": {},
     "output_type": "execute_result"
    }
   ],
   "source": [
    "df_group1 = T_cell_poor_high_SDI[T_cell_poor_high_SDI['tool'] == 'MIXCR']\n",
    "df_group2 = T_cell_poor_high_SDI[T_cell_poor_high_SDI['tool'] == 'TRUST4']\n",
    "\n",
    "stats.ttest_ind(df_group1['observed_portion_frequency'],df_group2['observed_portion_frequency'])"
   ]
  },
  {
   "cell_type": "code",
   "execution_count": 28,
   "metadata": {},
   "outputs": [
    {
     "data": {
      "text/plain": [
       "Ttest_indResult(statistic=-2.491421008939769, pvalue=0.020752080825163558)"
      ]
     },
     "execution_count": 28,
     "metadata": {},
     "output_type": "execute_result"
    }
   ],
   "source": [
    "df_group1 = T_cell_poor_high_SDI[T_cell_poor_high_SDI['tool'] == 'MIXCR']\n",
    "df_group2 = T_cell_poor_high_SDI[T_cell_poor_high_SDI['tool'] == 'CATT']\n",
    "\n",
    "stats.ttest_ind(df_group1['observed_portion_frequency'],df_group2['observed_portion_frequency'])"
   ]
  },
  {
   "cell_type": "code",
   "execution_count": 29,
   "metadata": {},
   "outputs": [
    {
     "data": {
      "text/plain": [
       "Ttest_indResult(statistic=-0.935741049280507, pvalue=0.35956528236497365)"
      ]
     },
     "execution_count": 29,
     "metadata": {},
     "output_type": "execute_result"
    }
   ],
   "source": [
    "df_group1 = T_cell_poor_high_SDI[T_cell_poor_high_SDI['tool'] == 'IMREP']\n",
    "df_group2 = T_cell_poor_high_SDI[T_cell_poor_high_SDI['tool'] == 'TRUST4']\n",
    "\n",
    "stats.ttest_ind(df_group1['observed_portion_frequency'],df_group2['observed_portion_frequency'])"
   ]
  },
  {
   "cell_type": "code",
   "execution_count": 30,
   "metadata": {},
   "outputs": [
    {
     "data": {
      "text/plain": [
       "Ttest_indResult(statistic=-0.8593766961524805, pvalue=0.3994003677136857)"
      ]
     },
     "execution_count": 30,
     "metadata": {},
     "output_type": "execute_result"
    }
   ],
   "source": [
    "df_group1 = T_cell_poor_high_SDI[T_cell_poor_high_SDI['tool'] == 'IMREP']\n",
    "df_group2 = T_cell_poor_high_SDI[T_cell_poor_high_SDI['tool'] == 'CATT']\n",
    "\n",
    "stats.ttest_ind(df_group1['observed_portion_frequency'],df_group2['observed_portion_frequency'])"
   ]
  },
  {
   "cell_type": "code",
   "execution_count": 31,
   "metadata": {},
   "outputs": [
    {
     "data": {
      "text/plain": [
       "Ttest_indResult(statistic=0.14513469749976585, pvalue=0.885926001052608)"
      ]
     },
     "execution_count": 31,
     "metadata": {},
     "output_type": "execute_result"
    }
   ],
   "source": [
    "df_group1 = T_cell_poor_high_SDI[T_cell_poor_high_SDI['tool'] == 'TRUST4']\n",
    "df_group2 = T_cell_poor_high_SDI[T_cell_poor_high_SDI['tool'] == 'CATT']\n",
    "\n",
    "stats.ttest_ind(df_group1['observed_portion_frequency'],df_group2['observed_portion_frequency'])"
   ]
  },
  {
   "cell_type": "code",
   "execution_count": null,
   "metadata": {},
   "outputs": [],
   "source": []
  }
 ],
 "metadata": {
  "kernelspec": {
   "display_name": "Python 3 (ipykernel)",
   "language": "python",
   "name": "python3"
  },
  "language_info": {
   "codemirror_mode": {
    "name": "ipython",
    "version": 3
   },
   "file_extension": ".py",
   "mimetype": "text/x-python",
   "name": "python",
   "nbconvert_exporter": "python",
   "pygments_lexer": "ipython3",
   "version": "3.7.4"
  }
 },
 "nbformat": 4,
 "nbformat_minor": 2
}
