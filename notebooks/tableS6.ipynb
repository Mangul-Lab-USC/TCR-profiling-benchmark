{
 "cells": [
  {
   "cell_type": "code",
   "execution_count": 1,
   "metadata": {},
   "outputs": [],
   "source": [
    "import pandas as pd\n",
    "import numpy as np\n",
    "from scipy import stats\n",
    "\n",
    "import warnings\n",
    "warnings.simplefilter(action=\"ignore\", category=FutureWarning)"
   ]
  },
  {
   "cell_type": "code",
   "execution_count": 2,
   "metadata": {
    "scrolled": true
   },
   "outputs": [
    {
     "data": {
      "text/html": [
       "<div>\n",
       "<style scoped>\n",
       "    .dataframe tbody tr th:only-of-type {\n",
       "        vertical-align: middle;\n",
       "    }\n",
       "\n",
       "    .dataframe tbody tr th {\n",
       "        vertical-align: top;\n",
       "    }\n",
       "\n",
       "    .dataframe thead th {\n",
       "        text-align: right;\n",
       "    }\n",
       "</style>\n",
       "<table border=\"1\" class=\"dataframe\">\n",
       "  <thead>\n",
       "    <tr style=\"text-align: right;\">\n",
       "      <th></th>\n",
       "      <th>Sample</th>\n",
       "      <th>shannon_index_tool</th>\n",
       "      <th>clonotype_count_tool</th>\n",
       "      <th>tool</th>\n",
       "      <th>shannon_index_TCR</th>\n",
       "      <th>clonotype_count_TCR</th>\n",
       "      <th>repertoire_type</th>\n",
       "      <th>tissue</th>\n",
       "      <th>tissue_type</th>\n",
       "      <th>SDI_absolute_error</th>\n",
       "      <th>class</th>\n",
       "      <th>clonality_TCR</th>\n",
       "      <th>clonality_tool</th>\n",
       "      <th>clonality_absolute_error</th>\n",
       "    </tr>\n",
       "  </thead>\n",
       "  <tbody>\n",
       "    <tr>\n",
       "      <th>0</th>\n",
       "      <td>SRR5233637</td>\n",
       "      <td>3.061608</td>\n",
       "      <td>24</td>\n",
       "      <td>MIXCR</td>\n",
       "      <td>7.712411</td>\n",
       "      <td>27947</td>\n",
       "      <td>high_SDI</td>\n",
       "      <td>small_intestine</td>\n",
       "      <td>T_cell_poor</td>\n",
       "      <td>4.650803</td>\n",
       "      <td>T_cell_poor_high_SDI</td>\n",
       "      <td>0.246692</td>\n",
       "      <td>0.036640</td>\n",
       "      <td>0.210052</td>\n",
       "    </tr>\n",
       "    <tr>\n",
       "      <th>1</th>\n",
       "      <td>SRR5233637</td>\n",
       "      <td>4.562193</td>\n",
       "      <td>115</td>\n",
       "      <td>IMREP</td>\n",
       "      <td>7.712411</td>\n",
       "      <td>27947</td>\n",
       "      <td>high_SDI</td>\n",
       "      <td>small_intestine</td>\n",
       "      <td>T_cell_poor</td>\n",
       "      <td>3.150218</td>\n",
       "      <td>T_cell_poor_high_SDI</td>\n",
       "      <td>0.246692</td>\n",
       "      <td>0.038512</td>\n",
       "      <td>0.208180</td>\n",
       "    </tr>\n",
       "    <tr>\n",
       "      <th>2</th>\n",
       "      <td>SRR5233637</td>\n",
       "      <td>4.309543</td>\n",
       "      <td>118</td>\n",
       "      <td>TRUST4</td>\n",
       "      <td>7.712411</td>\n",
       "      <td>27947</td>\n",
       "      <td>high_SDI</td>\n",
       "      <td>small_intestine</td>\n",
       "      <td>T_cell_poor</td>\n",
       "      <td>3.402869</td>\n",
       "      <td>T_cell_poor_high_SDI</td>\n",
       "      <td>0.246692</td>\n",
       "      <td>0.096662</td>\n",
       "      <td>0.150031</td>\n",
       "    </tr>\n",
       "    <tr>\n",
       "      <th>3</th>\n",
       "      <td>SRR5233637</td>\n",
       "      <td>1.342190</td>\n",
       "      <td>144</td>\n",
       "      <td>CATT</td>\n",
       "      <td>7.712411</td>\n",
       "      <td>27947</td>\n",
       "      <td>high_SDI</td>\n",
       "      <td>small_intestine</td>\n",
       "      <td>T_cell_poor</td>\n",
       "      <td>6.370222</td>\n",
       "      <td>T_cell_poor_high_SDI</td>\n",
       "      <td>0.246692</td>\n",
       "      <td>0.729932</td>\n",
       "      <td>0.483239</td>\n",
       "    </tr>\n",
       "    <tr>\n",
       "      <th>4</th>\n",
       "      <td>SRR5233639</td>\n",
       "      <td>5.478183</td>\n",
       "      <td>353</td>\n",
       "      <td>MIXCR</td>\n",
       "      <td>10.059157</td>\n",
       "      <td>202869</td>\n",
       "      <td>high_SDI</td>\n",
       "      <td>lymph_node</td>\n",
       "      <td>T_cell_rich</td>\n",
       "      <td>4.580975</td>\n",
       "      <td>T_cell_rich_high_SDI</td>\n",
       "      <td>0.176850</td>\n",
       "      <td>0.066187</td>\n",
       "      <td>0.110662</td>\n",
       "    </tr>\n",
       "    <tr>\n",
       "      <th>...</th>\n",
       "      <td>...</td>\n",
       "      <td>...</td>\n",
       "      <td>...</td>\n",
       "      <td>...</td>\n",
       "      <td>...</td>\n",
       "      <td>...</td>\n",
       "      <td>...</td>\n",
       "      <td>...</td>\n",
       "      <td>...</td>\n",
       "      <td>...</td>\n",
       "      <td>...</td>\n",
       "      <td>...</td>\n",
       "      <td>...</td>\n",
       "      <td>...</td>\n",
       "    </tr>\n",
       "    <tr>\n",
       "      <th>67</th>\n",
       "      <td>TCGA-CZ-5985</td>\n",
       "      <td>2.174110</td>\n",
       "      <td>22</td>\n",
       "      <td>TRUST4</td>\n",
       "      <td>5.638249</td>\n",
       "      <td>1415</td>\n",
       "      <td>high_SDI</td>\n",
       "      <td>kidney</td>\n",
       "      <td>T_cell_poor</td>\n",
       "      <td>3.464139</td>\n",
       "      <td>T_cell_poor_high_SDI</td>\n",
       "      <td>0.222834</td>\n",
       "      <td>0.296642</td>\n",
       "      <td>0.073808</td>\n",
       "    </tr>\n",
       "    <tr>\n",
       "      <th>68</th>\n",
       "      <td>TCGA-CZ-5985</td>\n",
       "      <td>1.160764</td>\n",
       "      <td>25</td>\n",
       "      <td>CATT</td>\n",
       "      <td>5.638249</td>\n",
       "      <td>1415</td>\n",
       "      <td>high_SDI</td>\n",
       "      <td>kidney</td>\n",
       "      <td>T_cell_poor</td>\n",
       "      <td>4.477485</td>\n",
       "      <td>T_cell_poor_high_SDI</td>\n",
       "      <td>0.222834</td>\n",
       "      <td>0.639388</td>\n",
       "      <td>0.416554</td>\n",
       "    </tr>\n",
       "    <tr>\n",
       "      <th>69</th>\n",
       "      <td>sample07</td>\n",
       "      <td>0.000000</td>\n",
       "      <td>1</td>\n",
       "      <td>IMREP</td>\n",
       "      <td>4.680209</td>\n",
       "      <td>3548</td>\n",
       "      <td>high_SDI</td>\n",
       "      <td>melanoma</td>\n",
       "      <td>T_cell_poor</td>\n",
       "      <td>4.680209</td>\n",
       "      <td>T_cell_poor_high_SDI</td>\n",
       "      <td>0.427437</td>\n",
       "      <td>NaN</td>\n",
       "      <td>NaN</td>\n",
       "    </tr>\n",
       "    <tr>\n",
       "      <th>70</th>\n",
       "      <td>sample07</td>\n",
       "      <td>0.970585</td>\n",
       "      <td>4</td>\n",
       "      <td>TRUST4</td>\n",
       "      <td>4.680209</td>\n",
       "      <td>3548</td>\n",
       "      <td>high_SDI</td>\n",
       "      <td>melanoma</td>\n",
       "      <td>T_cell_poor</td>\n",
       "      <td>3.709624</td>\n",
       "      <td>T_cell_poor_high_SDI</td>\n",
       "      <td>0.427437</td>\n",
       "      <td>0.299871</td>\n",
       "      <td>0.127566</td>\n",
       "    </tr>\n",
       "    <tr>\n",
       "      <th>71</th>\n",
       "      <td>sample07</td>\n",
       "      <td>1.163788</td>\n",
       "      <td>37</td>\n",
       "      <td>CATT</td>\n",
       "      <td>4.680209</td>\n",
       "      <td>3548</td>\n",
       "      <td>high_SDI</td>\n",
       "      <td>melanoma</td>\n",
       "      <td>T_cell_poor</td>\n",
       "      <td>3.516421</td>\n",
       "      <td>T_cell_poor_high_SDI</td>\n",
       "      <td>0.427437</td>\n",
       "      <td>0.677703</td>\n",
       "      <td>0.250266</td>\n",
       "    </tr>\n",
       "  </tbody>\n",
       "</table>\n",
       "<p>72 rows × 14 columns</p>\n",
       "</div>"
      ],
      "text/plain": [
       "          Sample  shannon_index_tool  clonotype_count_tool    tool  \\\n",
       "0     SRR5233637            3.061608                    24   MIXCR   \n",
       "1     SRR5233637            4.562193                   115   IMREP   \n",
       "2     SRR5233637            4.309543                   118  TRUST4   \n",
       "3     SRR5233637            1.342190                   144    CATT   \n",
       "4     SRR5233639            5.478183                   353   MIXCR   \n",
       "..           ...                 ...                   ...     ...   \n",
       "67  TCGA-CZ-5985            2.174110                    22  TRUST4   \n",
       "68  TCGA-CZ-5985            1.160764                    25    CATT   \n",
       "69      sample07            0.000000                     1   IMREP   \n",
       "70      sample07            0.970585                     4  TRUST4   \n",
       "71      sample07            1.163788                    37    CATT   \n",
       "\n",
       "    shannon_index_TCR  clonotype_count_TCR repertoire_type           tissue  \\\n",
       "0            7.712411                27947        high_SDI  small_intestine   \n",
       "1            7.712411                27947        high_SDI  small_intestine   \n",
       "2            7.712411                27947        high_SDI  small_intestine   \n",
       "3            7.712411                27947        high_SDI  small_intestine   \n",
       "4           10.059157               202869        high_SDI       lymph_node   \n",
       "..                ...                  ...             ...              ...   \n",
       "67           5.638249                 1415        high_SDI           kidney   \n",
       "68           5.638249                 1415        high_SDI           kidney   \n",
       "69           4.680209                 3548        high_SDI         melanoma   \n",
       "70           4.680209                 3548        high_SDI         melanoma   \n",
       "71           4.680209                 3548        high_SDI         melanoma   \n",
       "\n",
       "    tissue_type  SDI_absolute_error                 class  clonality_TCR  \\\n",
       "0   T_cell_poor            4.650803  T_cell_poor_high_SDI       0.246692   \n",
       "1   T_cell_poor            3.150218  T_cell_poor_high_SDI       0.246692   \n",
       "2   T_cell_poor            3.402869  T_cell_poor_high_SDI       0.246692   \n",
       "3   T_cell_poor            6.370222  T_cell_poor_high_SDI       0.246692   \n",
       "4   T_cell_rich            4.580975  T_cell_rich_high_SDI       0.176850   \n",
       "..          ...                 ...                   ...            ...   \n",
       "67  T_cell_poor            3.464139  T_cell_poor_high_SDI       0.222834   \n",
       "68  T_cell_poor            4.477485  T_cell_poor_high_SDI       0.222834   \n",
       "69  T_cell_poor            4.680209  T_cell_poor_high_SDI       0.427437   \n",
       "70  T_cell_poor            3.709624  T_cell_poor_high_SDI       0.427437   \n",
       "71  T_cell_poor            3.516421  T_cell_poor_high_SDI       0.427437   \n",
       "\n",
       "    clonality_tool  clonality_absolute_error  \n",
       "0         0.036640                  0.210052  \n",
       "1         0.038512                  0.208180  \n",
       "2         0.096662                  0.150031  \n",
       "3         0.729932                  0.483239  \n",
       "4         0.066187                  0.110662  \n",
       "..             ...                       ...  \n",
       "67        0.296642                  0.073808  \n",
       "68        0.639388                  0.416554  \n",
       "69             NaN                       NaN  \n",
       "70        0.299871                  0.127566  \n",
       "71        0.677703                  0.250266  \n",
       "\n",
       "[72 rows x 14 columns]"
      ]
     },
     "execution_count": 2,
     "metadata": {},
     "output_type": "execute_result"
    }
   ],
   "source": [
    "df = pd.read_csv(\"../summary_data/original/all_tools_TRB_diversity.csv\")\n",
    "df"
   ]
  },
  {
   "cell_type": "code",
   "execution_count": 3,
   "metadata": {},
   "outputs": [
    {
     "data": {
      "text/html": [
       "<div>\n",
       "<style scoped>\n",
       "    .dataframe tbody tr th:only-of-type {\n",
       "        vertical-align: middle;\n",
       "    }\n",
       "\n",
       "    .dataframe tbody tr th {\n",
       "        vertical-align: top;\n",
       "    }\n",
       "\n",
       "    .dataframe thead th {\n",
       "        text-align: right;\n",
       "    }\n",
       "</style>\n",
       "<table border=\"1\" class=\"dataframe\">\n",
       "  <thead>\n",
       "    <tr style=\"text-align: right;\">\n",
       "      <th></th>\n",
       "      <th>mean</th>\n",
       "      <th>std</th>\n",
       "    </tr>\n",
       "    <tr>\n",
       "      <th>class</th>\n",
       "      <th></th>\n",
       "      <th></th>\n",
       "    </tr>\n",
       "  </thead>\n",
       "  <tbody>\n",
       "    <tr>\n",
       "      <th>T_cell_poor_high_SDI</th>\n",
       "      <td>4.308353</td>\n",
       "      <td>1.242648</td>\n",
       "    </tr>\n",
       "    <tr>\n",
       "      <th>T_cell_poor_low_SDI</th>\n",
       "      <td>2.234020</td>\n",
       "      <td>0.498431</td>\n",
       "    </tr>\n",
       "    <tr>\n",
       "      <th>T_cell_rich_high_SDI</th>\n",
       "      <td>4.396753</td>\n",
       "      <td>1.161535</td>\n",
       "    </tr>\n",
       "    <tr>\n",
       "      <th>T_cell_rich_low_SDI</th>\n",
       "      <td>0.566670</td>\n",
       "      <td>0.501352</td>\n",
       "    </tr>\n",
       "  </tbody>\n",
       "</table>\n",
       "</div>"
      ],
      "text/plain": [
       "                          mean       std\n",
       "class                                   \n",
       "T_cell_poor_high_SDI  4.308353  1.242648\n",
       "T_cell_poor_low_SDI   2.234020  0.498431\n",
       "T_cell_rich_high_SDI  4.396753  1.161535\n",
       "T_cell_rich_low_SDI   0.566670  0.501352"
      ]
     },
     "metadata": {},
     "output_type": "display_data"
    },
    {
     "name": "stdout",
     "output_type": "stream",
     "text": [
      "MIXCR\n"
     ]
    },
    {
     "data": {
      "text/html": [
       "<div>\n",
       "<style scoped>\n",
       "    .dataframe tbody tr th:only-of-type {\n",
       "        vertical-align: middle;\n",
       "    }\n",
       "\n",
       "    .dataframe tbody tr th {\n",
       "        vertical-align: top;\n",
       "    }\n",
       "\n",
       "    .dataframe thead th {\n",
       "        text-align: right;\n",
       "    }\n",
       "</style>\n",
       "<table border=\"1\" class=\"dataframe\">\n",
       "  <thead>\n",
       "    <tr style=\"text-align: right;\">\n",
       "      <th></th>\n",
       "      <th>mean</th>\n",
       "      <th>std</th>\n",
       "    </tr>\n",
       "    <tr>\n",
       "      <th>class</th>\n",
       "      <th></th>\n",
       "      <th></th>\n",
       "    </tr>\n",
       "  </thead>\n",
       "  <tbody>\n",
       "    <tr>\n",
       "      <th>T_cell_poor_high_SDI</th>\n",
       "      <td>4.794637</td>\n",
       "      <td>0.697812</td>\n",
       "    </tr>\n",
       "    <tr>\n",
       "      <th>T_cell_poor_low_SDI</th>\n",
       "      <td>2.223459</td>\n",
       "      <td>NaN</td>\n",
       "    </tr>\n",
       "    <tr>\n",
       "      <th>T_cell_rich_high_SDI</th>\n",
       "      <td>5.108813</td>\n",
       "      <td>0.527169</td>\n",
       "    </tr>\n",
       "    <tr>\n",
       "      <th>T_cell_rich_low_SDI</th>\n",
       "      <td>0.141408</td>\n",
       "      <td>0.117840</td>\n",
       "    </tr>\n",
       "  </tbody>\n",
       "</table>\n",
       "</div>"
      ],
      "text/plain": [
       "                          mean       std\n",
       "class                                   \n",
       "T_cell_poor_high_SDI  4.794637  0.697812\n",
       "T_cell_poor_low_SDI   2.223459       NaN\n",
       "T_cell_rich_high_SDI  5.108813  0.527169\n",
       "T_cell_rich_low_SDI   0.141408  0.117840"
      ]
     },
     "metadata": {},
     "output_type": "display_data"
    },
    {
     "name": "stdout",
     "output_type": "stream",
     "text": [
      "IMREP\n"
     ]
    },
    {
     "data": {
      "text/html": [
       "<div>\n",
       "<style scoped>\n",
       "    .dataframe tbody tr th:only-of-type {\n",
       "        vertical-align: middle;\n",
       "    }\n",
       "\n",
       "    .dataframe tbody tr th {\n",
       "        vertical-align: top;\n",
       "    }\n",
       "\n",
       "    .dataframe thead th {\n",
       "        text-align: right;\n",
       "    }\n",
       "</style>\n",
       "<table border=\"1\" class=\"dataframe\">\n",
       "  <thead>\n",
       "    <tr style=\"text-align: right;\">\n",
       "      <th></th>\n",
       "      <th>mean</th>\n",
       "      <th>std</th>\n",
       "    </tr>\n",
       "    <tr>\n",
       "      <th>class</th>\n",
       "      <th></th>\n",
       "      <th></th>\n",
       "    </tr>\n",
       "  </thead>\n",
       "  <tbody>\n",
       "    <tr>\n",
       "      <th>T_cell_poor_high_SDI</th>\n",
       "      <td>4.126726</td>\n",
       "      <td>1.067636</td>\n",
       "    </tr>\n",
       "    <tr>\n",
       "      <th>T_cell_poor_low_SDI</th>\n",
       "      <td>2.642735</td>\n",
       "      <td>NaN</td>\n",
       "    </tr>\n",
       "    <tr>\n",
       "      <th>T_cell_rich_high_SDI</th>\n",
       "      <td>3.559607</td>\n",
       "      <td>1.110525</td>\n",
       "    </tr>\n",
       "    <tr>\n",
       "      <th>T_cell_rich_low_SDI</th>\n",
       "      <td>0.814811</td>\n",
       "      <td>0.679551</td>\n",
       "    </tr>\n",
       "  </tbody>\n",
       "</table>\n",
       "</div>"
      ],
      "text/plain": [
       "                          mean       std\n",
       "class                                   \n",
       "T_cell_poor_high_SDI  4.126726  1.067636\n",
       "T_cell_poor_low_SDI   2.642735       NaN\n",
       "T_cell_rich_high_SDI  3.559607  1.110525\n",
       "T_cell_rich_low_SDI   0.814811  0.679551"
      ]
     },
     "metadata": {},
     "output_type": "display_data"
    },
    {
     "name": "stdout",
     "output_type": "stream",
     "text": [
      "TRUST4\n"
     ]
    },
    {
     "data": {
      "text/html": [
       "<div>\n",
       "<style scoped>\n",
       "    .dataframe tbody tr th:only-of-type {\n",
       "        vertical-align: middle;\n",
       "    }\n",
       "\n",
       "    .dataframe tbody tr th {\n",
       "        vertical-align: top;\n",
       "    }\n",
       "\n",
       "    .dataframe thead th {\n",
       "        text-align: right;\n",
       "    }\n",
       "</style>\n",
       "<table border=\"1\" class=\"dataframe\">\n",
       "  <thead>\n",
       "    <tr style=\"text-align: right;\">\n",
       "      <th></th>\n",
       "      <th>mean</th>\n",
       "      <th>std</th>\n",
       "    </tr>\n",
       "    <tr>\n",
       "      <th>class</th>\n",
       "      <th></th>\n",
       "      <th></th>\n",
       "    </tr>\n",
       "  </thead>\n",
       "  <tbody>\n",
       "    <tr>\n",
       "      <th>T_cell_poor_high_SDI</th>\n",
       "      <td>3.566085</td>\n",
       "      <td>1.195012</td>\n",
       "    </tr>\n",
       "    <tr>\n",
       "      <th>T_cell_poor_low_SDI</th>\n",
       "      <td>2.534382</td>\n",
       "      <td>NaN</td>\n",
       "    </tr>\n",
       "    <tr>\n",
       "      <th>T_cell_rich_high_SDI</th>\n",
       "      <td>3.490319</td>\n",
       "      <td>0.731160</td>\n",
       "    </tr>\n",
       "    <tr>\n",
       "      <th>T_cell_rich_low_SDI</th>\n",
       "      <td>0.653830</td>\n",
       "      <td>0.564431</td>\n",
       "    </tr>\n",
       "  </tbody>\n",
       "</table>\n",
       "</div>"
      ],
      "text/plain": [
       "                          mean       std\n",
       "class                                   \n",
       "T_cell_poor_high_SDI  3.566085  1.195012\n",
       "T_cell_poor_low_SDI   2.534382       NaN\n",
       "T_cell_rich_high_SDI  3.490319  0.731160\n",
       "T_cell_rich_low_SDI   0.653830  0.564431"
      ]
     },
     "metadata": {},
     "output_type": "display_data"
    },
    {
     "name": "stdout",
     "output_type": "stream",
     "text": [
      "CATT\n"
     ]
    },
    {
     "data": {
      "text/html": [
       "<div>\n",
       "<style scoped>\n",
       "    .dataframe tbody tr th:only-of-type {\n",
       "        vertical-align: middle;\n",
       "    }\n",
       "\n",
       "    .dataframe tbody tr th {\n",
       "        vertical-align: top;\n",
       "    }\n",
       "\n",
       "    .dataframe thead th {\n",
       "        text-align: right;\n",
       "    }\n",
       "</style>\n",
       "<table border=\"1\" class=\"dataframe\">\n",
       "  <thead>\n",
       "    <tr style=\"text-align: right;\">\n",
       "      <th></th>\n",
       "      <th>mean</th>\n",
       "      <th>std</th>\n",
       "    </tr>\n",
       "    <tr>\n",
       "      <th>class</th>\n",
       "      <th></th>\n",
       "      <th></th>\n",
       "    </tr>\n",
       "  </thead>\n",
       "  <tbody>\n",
       "    <tr>\n",
       "      <th>T_cell_poor_high_SDI</th>\n",
       "      <td>4.908060</td>\n",
       "      <td>1.398994</td>\n",
       "    </tr>\n",
       "    <tr>\n",
       "      <th>T_cell_poor_low_SDI</th>\n",
       "      <td>1.535505</td>\n",
       "      <td>NaN</td>\n",
       "    </tr>\n",
       "    <tr>\n",
       "      <th>T_cell_rich_high_SDI</th>\n",
       "      <td>5.428275</td>\n",
       "      <td>0.856954</td>\n",
       "    </tr>\n",
       "    <tr>\n",
       "      <th>T_cell_rich_low_SDI</th>\n",
       "      <td>0.656631</td>\n",
       "      <td>0.448354</td>\n",
       "    </tr>\n",
       "  </tbody>\n",
       "</table>\n",
       "</div>"
      ],
      "text/plain": [
       "                          mean       std\n",
       "class                                   \n",
       "T_cell_poor_high_SDI  4.908060  1.398994\n",
       "T_cell_poor_low_SDI   1.535505       NaN\n",
       "T_cell_rich_high_SDI  5.428275  0.856954\n",
       "T_cell_rich_low_SDI   0.656631  0.448354"
      ]
     },
     "metadata": {},
     "output_type": "display_data"
    }
   ],
   "source": [
    "mean_class_absolute_error = df.groupby(\"class\")[\"SDI_absolute_error\"].agg([\"mean\", \"std\"])\n",
    "display(mean_class_absolute_error)\n",
    "tools = ['MIXCR','IMREP','TRUST4','CATT']              \n",
    "for tool in tools:  \n",
    "    print(tool)\n",
    "    df_tool = df.loc[df['tool'] == tool]\n",
    "    mean_class_absolute_error = df_tool.groupby(\"class\")[\"SDI_absolute_error\"].agg([\"mean\", \"std\"]) \n",
    "    display(mean_class_absolute_error)"
   ]
  },
  {
   "cell_type": "markdown",
   "metadata": {},
   "source": [
    "## T_cell_rich_low_SDI samples"
   ]
  },
  {
   "cell_type": "code",
   "execution_count": 4,
   "metadata": {},
   "outputs": [],
   "source": [
    "T_cell_rich_low_SDI = df.loc[df['class'] == 'T_cell_rich_low_SDI']"
   ]
  },
  {
   "cell_type": "code",
   "execution_count": 5,
   "metadata": {},
   "outputs": [
    {
     "data": {
      "text/plain": [
       "Ttest_indResult(statistic=-1.691141670370487, pvalue=0.1660704366684594)"
      ]
     },
     "execution_count": 5,
     "metadata": {},
     "output_type": "execute_result"
    }
   ],
   "source": [
    "df_group1 = T_cell_rich_low_SDI[T_cell_rich_low_SDI['tool'] == 'MIXCR']\n",
    "df_group2 = T_cell_rich_low_SDI[T_cell_rich_low_SDI['tool'] == 'IMREP']\n",
    "\n",
    "stats.ttest_ind(df_group1['SDI_absolute_error'],df_group2['SDI_absolute_error'])"
   ]
  },
  {
   "cell_type": "code",
   "execution_count": 6,
   "metadata": {},
   "outputs": [
    {
     "data": {
      "text/plain": [
       "Ttest_indResult(statistic=-1.5392603248155978, pvalue=0.198575661653657)"
      ]
     },
     "execution_count": 6,
     "metadata": {},
     "output_type": "execute_result"
    }
   ],
   "source": [
    "df_group1 = T_cell_rich_low_SDI[T_cell_rich_low_SDI['tool'] == 'MIXCR']\n",
    "df_group2 = T_cell_rich_low_SDI[T_cell_rich_low_SDI['tool'] == 'TRUST4']\n",
    "\n",
    "stats.ttest_ind(df_group1['SDI_absolute_error'],df_group2['SDI_absolute_error'])"
   ]
  },
  {
   "cell_type": "code",
   "execution_count": 7,
   "metadata": {},
   "outputs": [
    {
     "data": {
      "text/plain": [
       "Ttest_indResult(statistic=-1.9249943575504038, pvalue=0.12654199826909093)"
      ]
     },
     "execution_count": 7,
     "metadata": {},
     "output_type": "execute_result"
    }
   ],
   "source": [
    "df_group1 = T_cell_rich_low_SDI[T_cell_rich_low_SDI['tool'] == 'MIXCR']\n",
    "df_group2 = T_cell_rich_low_SDI[T_cell_rich_low_SDI['tool'] == 'CATT']\n",
    "\n",
    "stats.ttest_ind(df_group1['SDI_absolute_error'],df_group2['SDI_absolute_error'])"
   ]
  },
  {
   "cell_type": "code",
   "execution_count": 8,
   "metadata": {},
   "outputs": [
    {
     "data": {
      "text/plain": [
       "Ttest_indResult(statistic=0.31563547997991515, pvalue=0.7680615846448555)"
      ]
     },
     "execution_count": 8,
     "metadata": {},
     "output_type": "execute_result"
    }
   ],
   "source": [
    "df_group1 = T_cell_rich_low_SDI[T_cell_rich_low_SDI['tool'] == 'IMREP']\n",
    "df_group2 = T_cell_rich_low_SDI[T_cell_rich_low_SDI['tool'] == 'TRUST4']\n",
    "\n",
    "stats.ttest_ind(df_group1['SDI_absolute_error'],df_group2['SDI_absolute_error'])"
   ]
  },
  {
   "cell_type": "code",
   "execution_count": 9,
   "metadata": {},
   "outputs": [
    {
     "data": {
      "text/plain": [
       "Ttest_indResult(statistic=0.3365262124609058, pvalue=0.7533884549790767)"
      ]
     },
     "execution_count": 9,
     "metadata": {},
     "output_type": "execute_result"
    }
   ],
   "source": [
    "df_group1 = T_cell_rich_low_SDI[T_cell_rich_low_SDI['tool'] == 'IMREP']\n",
    "df_group2 = T_cell_rich_low_SDI[T_cell_rich_low_SDI['tool'] == 'CATT']\n",
    "\n",
    "stats.ttest_ind(df_group1['SDI_absolute_error'],df_group2['SDI_absolute_error'])"
   ]
  },
  {
   "cell_type": "code",
   "execution_count": 10,
   "metadata": {},
   "outputs": [
    {
     "data": {
      "text/plain": [
       "Ttest_indResult(statistic=-0.006730411449767018, pvalue=0.9949522390491594)"
      ]
     },
     "execution_count": 10,
     "metadata": {},
     "output_type": "execute_result"
    }
   ],
   "source": [
    "df_group1 = T_cell_rich_low_SDI[T_cell_rich_low_SDI['tool'] == 'TRUST4']\n",
    "df_group2 = T_cell_rich_low_SDI[T_cell_rich_low_SDI['tool'] == 'CATT']\n",
    "\n",
    "stats.ttest_ind(df_group1['SDI_absolute_error'],df_group2['SDI_absolute_error'])"
   ]
  },
  {
   "cell_type": "markdown",
   "metadata": {},
   "source": [
    "## T_cell_rich_high_SDI samples"
   ]
  },
  {
   "cell_type": "code",
   "execution_count": 11,
   "metadata": {},
   "outputs": [],
   "source": [
    "T_cell_rich_high_SDI = df.loc[df['class'] == 'T_cell_rich_high_SDI']"
   ]
  },
  {
   "cell_type": "code",
   "execution_count": 12,
   "metadata": {},
   "outputs": [
    {
     "data": {
      "text/plain": [
       "Ttest_indResult(statistic=2.1827925020584527, pvalue=0.09444929462736283)"
      ]
     },
     "execution_count": 12,
     "metadata": {},
     "output_type": "execute_result"
    }
   ],
   "source": [
    "df_group1 = T_cell_rich_high_SDI[T_cell_rich_high_SDI['tool'] == 'MIXCR']\n",
    "df_group2 = T_cell_rich_high_SDI[T_cell_rich_high_SDI['tool'] == 'IMREP']\n",
    "\n",
    "stats.ttest_ind(df_group1['SDI_absolute_error'],df_group2['SDI_absolute_error'])"
   ]
  },
  {
   "cell_type": "code",
   "execution_count": 13,
   "metadata": {},
   "outputs": [
    {
     "data": {
      "text/plain": [
       "Ttest_indResult(statistic=3.1099936756988913, pvalue=0.03587211285946198)"
      ]
     },
     "execution_count": 13,
     "metadata": {},
     "output_type": "execute_result"
    }
   ],
   "source": [
    "df_group1 = T_cell_rich_high_SDI[T_cell_rich_high_SDI['tool'] == 'MIXCR']\n",
    "df_group2 = T_cell_rich_high_SDI[T_cell_rich_high_SDI['tool'] == 'TRUST4']\n",
    "\n",
    "stats.ttest_ind(df_group1['SDI_absolute_error'],df_group2['SDI_absolute_error'])"
   ]
  },
  {
   "cell_type": "code",
   "execution_count": 14,
   "metadata": {},
   "outputs": [
    {
     "data": {
      "text/plain": [
       "Ttest_indResult(statistic=-0.5499595674301192, pvalue=0.6116118536059099)"
      ]
     },
     "execution_count": 14,
     "metadata": {},
     "output_type": "execute_result"
    }
   ],
   "source": [
    "df_group1 = T_cell_rich_high_SDI[T_cell_rich_high_SDI['tool'] == 'MIXCR']\n",
    "df_group2 = T_cell_rich_high_SDI[T_cell_rich_high_SDI['tool'] == 'CATT']\n",
    "\n",
    "stats.ttest_ind(df_group1['SDI_absolute_error'],df_group2['SDI_absolute_error'])"
   ]
  },
  {
   "cell_type": "code",
   "execution_count": 15,
   "metadata": {},
   "outputs": [
    {
     "data": {
      "text/plain": [
       "Ttest_indResult(statistic=0.09026037523242246, pvalue=0.9324193711189177)"
      ]
     },
     "execution_count": 15,
     "metadata": {},
     "output_type": "execute_result"
    }
   ],
   "source": [
    "df_group1 = T_cell_rich_high_SDI[T_cell_rich_high_SDI['tool'] == 'IMREP']\n",
    "df_group2 = T_cell_rich_high_SDI[T_cell_rich_high_SDI['tool'] == 'TRUST4']\n",
    "\n",
    "stats.ttest_ind(df_group1['SDI_absolute_error'],df_group2['SDI_absolute_error'])"
   ]
  },
  {
   "cell_type": "code",
   "execution_count": 16,
   "metadata": {},
   "outputs": [
    {
     "data": {
      "text/plain": [
       "Ttest_indResult(statistic=-2.3073861310675876, pvalue=0.08226821811920852)"
      ]
     },
     "execution_count": 16,
     "metadata": {},
     "output_type": "execute_result"
    }
   ],
   "source": [
    "df_group1 = T_cell_rich_high_SDI[T_cell_rich_high_SDI['tool'] == 'IMREP']\n",
    "df_group2 = T_cell_rich_high_SDI[T_cell_rich_high_SDI['tool'] == 'CATT']\n",
    "\n",
    "stats.ttest_ind(df_group1['SDI_absolute_error'],df_group2['SDI_absolute_error'])"
   ]
  },
  {
   "cell_type": "code",
   "execution_count": 17,
   "metadata": {},
   "outputs": [
    {
     "data": {
      "text/plain": [
       "Ttest_indResult(statistic=-2.979749639589245, pvalue=0.04074896842876157)"
      ]
     },
     "execution_count": 17,
     "metadata": {},
     "output_type": "execute_result"
    }
   ],
   "source": [
    "df_group1 = T_cell_rich_high_SDI[T_cell_rich_high_SDI['tool'] == 'TRUST4']\n",
    "df_group2 = T_cell_rich_high_SDI[T_cell_rich_high_SDI['tool'] == 'CATT']\n",
    "\n",
    "stats.ttest_ind(df_group1['SDI_absolute_error'],df_group2['SDI_absolute_error'])"
   ]
  },
  {
   "cell_type": "markdown",
   "metadata": {},
   "source": [
    "## T_cell_poor_high_SDI samples"
   ]
  },
  {
   "cell_type": "code",
   "execution_count": 18,
   "metadata": {},
   "outputs": [],
   "source": [
    "T_cell_poor_high_SDI = df.loc[df['class'] == 'T_cell_poor_high_SDI']"
   ]
  },
  {
   "cell_type": "code",
   "execution_count": 19,
   "metadata": {},
   "outputs": [
    {
     "data": {
      "text/plain": [
       "Ttest_indResult(statistic=1.5546672568752988, pvalue=0.13743172441028909)"
      ]
     },
     "execution_count": 19,
     "metadata": {},
     "output_type": "execute_result"
    }
   ],
   "source": [
    "df_group1 = T_cell_poor_high_SDI[T_cell_poor_high_SDI['tool'] == 'MIXCR']\n",
    "df_group2 = T_cell_poor_high_SDI[T_cell_poor_high_SDI['tool'] == 'IMREP']\n",
    "\n",
    "stats.ttest_ind(df_group1['SDI_absolute_error'],df_group2['SDI_absolute_error'])"
   ]
  },
  {
   "cell_type": "code",
   "execution_count": 20,
   "metadata": {},
   "outputs": [
    {
     "data": {
      "text/plain": [
       "Ttest_indResult(statistic=2.6117912643789705, pvalue=0.017655939729949995)"
      ]
     },
     "execution_count": 20,
     "metadata": {},
     "output_type": "execute_result"
    }
   ],
   "source": [
    "df_group1 = T_cell_poor_high_SDI[T_cell_poor_high_SDI['tool'] == 'MIXCR']\n",
    "df_group2 = T_cell_poor_high_SDI[T_cell_poor_high_SDI['tool'] == 'TRUST4']\n",
    "\n",
    "stats.ttest_ind(df_group1['SDI_absolute_error'],df_group2['SDI_absolute_error'])"
   ]
  },
  {
   "cell_type": "code",
   "execution_count": 21,
   "metadata": {},
   "outputs": [
    {
     "data": {
      "text/plain": [
       "Ttest_indResult(statistic=-0.21112158505446507, pvalue=0.8351641757216771)"
      ]
     },
     "execution_count": 21,
     "metadata": {},
     "output_type": "execute_result"
    }
   ],
   "source": [
    "df_group1 = T_cell_poor_high_SDI[T_cell_poor_high_SDI['tool'] == 'MIXCR']\n",
    "df_group2 = T_cell_poor_high_SDI[T_cell_poor_high_SDI['tool'] == 'CATT']\n",
    "\n",
    "stats.ttest_ind(df_group1['SDI_absolute_error'],df_group2['SDI_absolute_error'])"
   ]
  },
  {
   "cell_type": "code",
   "execution_count": 22,
   "metadata": {},
   "outputs": [
    {
     "data": {
      "text/plain": [
       "Ttest_indResult(statistic=1.211954474818161, pvalue=0.2383860782684187)"
      ]
     },
     "execution_count": 22,
     "metadata": {},
     "output_type": "execute_result"
    }
   ],
   "source": [
    "df_group1 = T_cell_poor_high_SDI[T_cell_poor_high_SDI['tool'] == 'IMREP']\n",
    "df_group2 = T_cell_poor_high_SDI[T_cell_poor_high_SDI['tool'] == 'TRUST4']\n",
    "\n",
    "stats.ttest_ind(df_group1['SDI_absolute_error'],df_group2['SDI_absolute_error'])"
   ]
  },
  {
   "cell_type": "code",
   "execution_count": 23,
   "metadata": {},
   "outputs": [
    {
     "data": {
      "text/plain": [
       "Ttest_indResult(statistic=-1.5379951086849906, pvalue=0.1383094354301306)"
      ]
     },
     "execution_count": 23,
     "metadata": {},
     "output_type": "execute_result"
    }
   ],
   "source": [
    "df_group1 = T_cell_poor_high_SDI[T_cell_poor_high_SDI['tool'] == 'IMREP']\n",
    "df_group2 = T_cell_poor_high_SDI[T_cell_poor_high_SDI['tool'] == 'CATT']\n",
    "\n",
    "stats.ttest_ind(df_group1['SDI_absolute_error'],df_group2['SDI_absolute_error'])"
   ]
  },
  {
   "cell_type": "code",
   "execution_count": 24,
   "metadata": {},
   "outputs": [
    {
     "data": {
      "text/plain": [
       "Ttest_indResult(statistic=-2.5266237322921463, pvalue=0.019214523935800247)"
      ]
     },
     "execution_count": 24,
     "metadata": {},
     "output_type": "execute_result"
    }
   ],
   "source": [
    "df_group1 = T_cell_poor_high_SDI[T_cell_poor_high_SDI['tool'] == 'TRUST4']\n",
    "df_group2 = T_cell_poor_high_SDI[T_cell_poor_high_SDI['tool'] == 'CATT']\n",
    "\n",
    "stats.ttest_ind(df_group1['SDI_absolute_error'],df_group2['SDI_absolute_error'])"
   ]
  },
  {
   "cell_type": "code",
   "execution_count": null,
   "metadata": {},
   "outputs": [],
   "source": []
  }
 ],
 "metadata": {
  "kernelspec": {
   "display_name": "Python 3 (ipykernel)",
   "language": "python",
   "name": "python3"
  },
  "language_info": {
   "codemirror_mode": {
    "name": "ipython",
    "version": 3
   },
   "file_extension": ".py",
   "mimetype": "text/x-python",
   "name": "python",
   "nbconvert_exporter": "python",
   "pygments_lexer": "ipython3",
   "version": "3.7.4"
  }
 },
 "nbformat": 4,
 "nbformat_minor": 2
}
