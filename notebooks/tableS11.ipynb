{
 "cells": [
  {
   "cell_type": "code",
   "execution_count": 1,
   "metadata": {},
   "outputs": [],
   "source": [
    "import pandas as pd\n",
    "import numpy as np\n",
    "from scipy import stats\n",
    "\n",
    "import warnings\n",
    "warnings.simplefilter(action=\"ignore\", category=FutureWarning)"
   ]
  },
  {
   "cell_type": "code",
   "execution_count": 2,
   "metadata": {},
   "outputs": [],
   "source": [
    "df = pd.read_csv(\"../summary_data/original/all_tools_TRB.csv\")\n",
    "df = df.loc[~(df['frequency_TCR'] == 0)]\n",
    "df2 = pd.read_csv(\"../summary_data/original/all_tools_TRB_diversity.csv\")"
   ]
  },
  {
   "cell_type": "code",
   "execution_count": 3,
   "metadata": {},
   "outputs": [
    {
     "data": {
      "text/html": [
       "<div>\n",
       "<style scoped>\n",
       "    .dataframe tbody tr th:only-of-type {\n",
       "        vertical-align: middle;\n",
       "    }\n",
       "\n",
       "    .dataframe tbody tr th {\n",
       "        vertical-align: top;\n",
       "    }\n",
       "\n",
       "    .dataframe thead th {\n",
       "        text-align: right;\n",
       "    }\n",
       "</style>\n",
       "<table border=\"1\" class=\"dataframe\">\n",
       "  <thead>\n",
       "    <tr style=\"text-align: right;\">\n",
       "      <th></th>\n",
       "      <th>Sample</th>\n",
       "      <th>confirmed_clonotype_count_tool</th>\n",
       "      <th>tool</th>\n",
       "      <th>tissue</th>\n",
       "      <th>class</th>\n",
       "      <th>clonotype_count_tool</th>\n",
       "    </tr>\n",
       "  </thead>\n",
       "  <tbody>\n",
       "    <tr>\n",
       "      <th>0</th>\n",
       "      <td>SRR5233637</td>\n",
       "      <td>24</td>\n",
       "      <td>MIXCR</td>\n",
       "      <td>small_intestine</td>\n",
       "      <td>T_cell_poor_high_SDI</td>\n",
       "      <td>24</td>\n",
       "    </tr>\n",
       "    <tr>\n",
       "      <th>1</th>\n",
       "      <td>SRR5233639</td>\n",
       "      <td>340</td>\n",
       "      <td>MIXCR</td>\n",
       "      <td>lymph_node</td>\n",
       "      <td>T_cell_rich_high_SDI</td>\n",
       "      <td>353</td>\n",
       "    </tr>\n",
       "    <tr>\n",
       "      <th>2</th>\n",
       "      <td>sample01</td>\n",
       "      <td>473</td>\n",
       "      <td>MIXCR</td>\n",
       "      <td>PBMC</td>\n",
       "      <td>T_cell_rich_low_SDI</td>\n",
       "      <td>2592</td>\n",
       "    </tr>\n",
       "    <tr>\n",
       "      <th>3</th>\n",
       "      <td>sample02</td>\n",
       "      <td>170</td>\n",
       "      <td>MIXCR</td>\n",
       "      <td>PBMC</td>\n",
       "      <td>T_cell_rich_low_SDI</td>\n",
       "      <td>1565</td>\n",
       "    </tr>\n",
       "    <tr>\n",
       "      <th>4</th>\n",
       "      <td>sample03</td>\n",
       "      <td>307</td>\n",
       "      <td>MIXCR</td>\n",
       "      <td>PBMC</td>\n",
       "      <td>T_cell_rich_low_SDI</td>\n",
       "      <td>1012</td>\n",
       "    </tr>\n",
       "    <tr>\n",
       "      <th>...</th>\n",
       "      <td>...</td>\n",
       "      <td>...</td>\n",
       "      <td>...</td>\n",
       "      <td>...</td>\n",
       "      <td>...</td>\n",
       "      <td>...</td>\n",
       "    </tr>\n",
       "    <tr>\n",
       "      <th>67</th>\n",
       "      <td>sample10</td>\n",
       "      <td>36</td>\n",
       "      <td>CATT</td>\n",
       "      <td>melanoma</td>\n",
       "      <td>T_cell_poor_high_SDI</td>\n",
       "      <td>103</td>\n",
       "    </tr>\n",
       "    <tr>\n",
       "      <th>68</th>\n",
       "      <td>sample11</td>\n",
       "      <td>6</td>\n",
       "      <td>CATT</td>\n",
       "      <td>melanoma</td>\n",
       "      <td>T_cell_poor_high_SDI</td>\n",
       "      <td>71</td>\n",
       "    </tr>\n",
       "    <tr>\n",
       "      <th>69</th>\n",
       "      <td>sample12</td>\n",
       "      <td>6</td>\n",
       "      <td>CATT</td>\n",
       "      <td>melanoma</td>\n",
       "      <td>T_cell_poor_high_SDI</td>\n",
       "      <td>105</td>\n",
       "    </tr>\n",
       "    <tr>\n",
       "      <th>70</th>\n",
       "      <td>sample13</td>\n",
       "      <td>15</td>\n",
       "      <td>CATT</td>\n",
       "      <td>melanoma</td>\n",
       "      <td>T_cell_poor_low_SDI</td>\n",
       "      <td>242</td>\n",
       "    </tr>\n",
       "    <tr>\n",
       "      <th>71</th>\n",
       "      <td>sample14</td>\n",
       "      <td>37</td>\n",
       "      <td>CATT</td>\n",
       "      <td>melanoma</td>\n",
       "      <td>T_cell_poor_high_SDI</td>\n",
       "      <td>86</td>\n",
       "    </tr>\n",
       "  </tbody>\n",
       "</table>\n",
       "<p>72 rows × 6 columns</p>\n",
       "</div>"
      ],
      "text/plain": [
       "        Sample  confirmed_clonotype_count_tool   tool           tissue  \\\n",
       "0   SRR5233637                              24  MIXCR  small_intestine   \n",
       "1   SRR5233639                             340  MIXCR       lymph_node   \n",
       "2     sample01                             473  MIXCR             PBMC   \n",
       "3     sample02                             170  MIXCR             PBMC   \n",
       "4     sample03                             307  MIXCR             PBMC   \n",
       "..         ...                             ...    ...              ...   \n",
       "67    sample10                              36   CATT         melanoma   \n",
       "68    sample11                               6   CATT         melanoma   \n",
       "69    sample12                               6   CATT         melanoma   \n",
       "70    sample13                              15   CATT         melanoma   \n",
       "71    sample14                              37   CATT         melanoma   \n",
       "\n",
       "                   class  clonotype_count_tool  \n",
       "0   T_cell_poor_high_SDI                    24  \n",
       "1   T_cell_rich_high_SDI                   353  \n",
       "2    T_cell_rich_low_SDI                  2592  \n",
       "3    T_cell_rich_low_SDI                  1565  \n",
       "4    T_cell_rich_low_SDI                  1012  \n",
       "..                   ...                   ...  \n",
       "67  T_cell_poor_high_SDI                   103  \n",
       "68  T_cell_poor_high_SDI                    71  \n",
       "69  T_cell_poor_high_SDI                   105  \n",
       "70   T_cell_poor_low_SDI                   242  \n",
       "71  T_cell_poor_high_SDI                    86  \n",
       "\n",
       "[72 rows x 6 columns]"
      ]
     },
     "execution_count": 3,
     "metadata": {},
     "output_type": "execute_result"
    }
   ],
   "source": [
    "## Calculate TCR-Seq confirmed clonotypes\n",
    "\n",
    "# MIXCR\n",
    "MIXCR = df[df.nReads_MIXCR != 0]\n",
    "clonotype_count_MIXCR = MIXCR.groupby(['Sample'], sort=False).size().reset_index(name='confirmed_clonotype_count_tool')\n",
    "clonotype_count_MIXCR['tool'] = 'MIXCR'\n",
    "\n",
    "# IMREP\n",
    "IMREP = df[df.nReads_IMREP != 0]\n",
    "clonotype_count_IMREP = IMREP.groupby(['Sample'], sort=False).size().reset_index(name='confirmed_clonotype_count_tool')\n",
    "clonotype_count_IMREP['tool'] = 'IMREP'\n",
    "\n",
    "# TRUST4\n",
    "TRUST4 = df[df.nReads_TRUST4 != 0]\n",
    "clonotype_count_TRUST4 = TRUST4.groupby(['Sample'], sort=False).size().reset_index(name='confirmed_clonotype_count_tool')\n",
    "clonotype_count_TRUST4['tool'] = 'TRUST4'\n",
    "\n",
    "# CATT\n",
    "CATT = df[df.nReads_CATT != 0]\n",
    "clonotype_count_CATT = CATT.groupby(['Sample'], sort=False).size().reset_index(name='confirmed_clonotype_count_tool')\n",
    "clonotype_count_CATT['tool'] = 'CATT'\n",
    "\n",
    "confirmed_clonotype_count = pd.concat([clonotype_count_MIXCR,clonotype_count_IMREP,clonotype_count_TRUST4,clonotype_count_CATT])\n",
    "clonotype_count = df2[['Sample','tissue','class','clonotype_count_tool','tool']]\n",
    "clonotype = pd.merge(confirmed_clonotype_count, clonotype_count, how='inner', on=['Sample','tool'])\n",
    "\n",
    "clonotype"
   ]
  },
  {
   "cell_type": "code",
   "execution_count": 4,
   "metadata": {},
   "outputs": [
    {
     "data": {
      "text/html": [
       "<div>\n",
       "<style scoped>\n",
       "    .dataframe tbody tr th:only-of-type {\n",
       "        vertical-align: middle;\n",
       "    }\n",
       "\n",
       "    .dataframe tbody tr th {\n",
       "        vertical-align: top;\n",
       "    }\n",
       "\n",
       "    .dataframe thead th {\n",
       "        text-align: right;\n",
       "    }\n",
       "</style>\n",
       "<table border=\"1\" class=\"dataframe\">\n",
       "  <thead>\n",
       "    <tr style=\"text-align: right;\">\n",
       "      <th></th>\n",
       "      <th>mean</th>\n",
       "      <th>std</th>\n",
       "    </tr>\n",
       "    <tr>\n",
       "      <th>class</th>\n",
       "      <th></th>\n",
       "      <th></th>\n",
       "    </tr>\n",
       "  </thead>\n",
       "  <tbody>\n",
       "    <tr>\n",
       "      <th>T_cell_poor_high_SDI</th>\n",
       "      <td>58.045455</td>\n",
       "      <td>52.270742</td>\n",
       "    </tr>\n",
       "    <tr>\n",
       "      <th>T_cell_poor_low_SDI</th>\n",
       "      <td>157.250000</td>\n",
       "      <td>65.703247</td>\n",
       "    </tr>\n",
       "    <tr>\n",
       "      <th>T_cell_rich_high_SDI</th>\n",
       "      <td>690.083333</td>\n",
       "      <td>851.657897</td>\n",
       "    </tr>\n",
       "    <tr>\n",
       "      <th>T_cell_rich_low_SDI</th>\n",
       "      <td>3480.166667</td>\n",
       "      <td>1239.397422</td>\n",
       "    </tr>\n",
       "  </tbody>\n",
       "</table>\n",
       "</div>"
      ],
      "text/plain": [
       "                             mean          std\n",
       "class                                         \n",
       "T_cell_poor_high_SDI    58.045455    52.270742\n",
       "T_cell_poor_low_SDI    157.250000    65.703247\n",
       "T_cell_rich_high_SDI   690.083333   851.657897\n",
       "T_cell_rich_low_SDI   3480.166667  1239.397422"
      ]
     },
     "metadata": {},
     "output_type": "display_data"
    },
    {
     "name": "stdout",
     "output_type": "stream",
     "text": [
      "MIXCR\n"
     ]
    },
    {
     "data": {
      "text/html": [
       "<div>\n",
       "<style scoped>\n",
       "    .dataframe tbody tr th:only-of-type {\n",
       "        vertical-align: middle;\n",
       "    }\n",
       "\n",
       "    .dataframe tbody tr th {\n",
       "        vertical-align: top;\n",
       "    }\n",
       "\n",
       "    .dataframe thead th {\n",
       "        text-align: right;\n",
       "    }\n",
       "</style>\n",
       "<table border=\"1\" class=\"dataframe\">\n",
       "  <thead>\n",
       "    <tr style=\"text-align: right;\">\n",
       "      <th></th>\n",
       "      <th>mean</th>\n",
       "      <th>std</th>\n",
       "    </tr>\n",
       "    <tr>\n",
       "      <th>class</th>\n",
       "      <th></th>\n",
       "      <th></th>\n",
       "    </tr>\n",
       "  </thead>\n",
       "  <tbody>\n",
       "    <tr>\n",
       "      <th>T_cell_poor_high_SDI</th>\n",
       "      <td>24.875</td>\n",
       "      <td>15.084879</td>\n",
       "    </tr>\n",
       "    <tr>\n",
       "      <th>T_cell_poor_low_SDI</th>\n",
       "      <td>96.000</td>\n",
       "      <td>NaN</td>\n",
       "    </tr>\n",
       "    <tr>\n",
       "      <th>T_cell_rich_high_SDI</th>\n",
       "      <td>145.000</td>\n",
       "      <td>181.353246</td>\n",
       "    </tr>\n",
       "    <tr>\n",
       "      <th>T_cell_rich_low_SDI</th>\n",
       "      <td>1723.000</td>\n",
       "      <td>801.762434</td>\n",
       "    </tr>\n",
       "  </tbody>\n",
       "</table>\n",
       "</div>"
      ],
      "text/plain": [
       "                          mean         std\n",
       "class                                     \n",
       "T_cell_poor_high_SDI    24.875   15.084879\n",
       "T_cell_poor_low_SDI     96.000         NaN\n",
       "T_cell_rich_high_SDI   145.000  181.353246\n",
       "T_cell_rich_low_SDI   1723.000  801.762434"
      ]
     },
     "metadata": {},
     "output_type": "display_data"
    },
    {
     "name": "stdout",
     "output_type": "stream",
     "text": [
      "IMREP\n"
     ]
    },
    {
     "data": {
      "text/html": [
       "<div>\n",
       "<style scoped>\n",
       "    .dataframe tbody tr th:only-of-type {\n",
       "        vertical-align: middle;\n",
       "    }\n",
       "\n",
       "    .dataframe tbody tr th {\n",
       "        vertical-align: top;\n",
       "    }\n",
       "\n",
       "    .dataframe thead th {\n",
       "        text-align: right;\n",
       "    }\n",
       "</style>\n",
       "<table border=\"1\" class=\"dataframe\">\n",
       "  <thead>\n",
       "    <tr style=\"text-align: right;\">\n",
       "      <th></th>\n",
       "      <th>mean</th>\n",
       "      <th>std</th>\n",
       "    </tr>\n",
       "    <tr>\n",
       "      <th>class</th>\n",
       "      <th></th>\n",
       "      <th></th>\n",
       "    </tr>\n",
       "  </thead>\n",
       "  <tbody>\n",
       "    <tr>\n",
       "      <th>T_cell_poor_high_SDI</th>\n",
       "      <td>37.583333</td>\n",
       "      <td>39.619688</td>\n",
       "    </tr>\n",
       "    <tr>\n",
       "      <th>T_cell_poor_low_SDI</th>\n",
       "      <td>116.000000</td>\n",
       "      <td>NaN</td>\n",
       "    </tr>\n",
       "    <tr>\n",
       "      <th>T_cell_rich_high_SDI</th>\n",
       "      <td>965.666667</td>\n",
       "      <td>1216.758124</td>\n",
       "    </tr>\n",
       "    <tr>\n",
       "      <th>T_cell_rich_low_SDI</th>\n",
       "      <td>3862.333333</td>\n",
       "      <td>466.422913</td>\n",
       "    </tr>\n",
       "  </tbody>\n",
       "</table>\n",
       "</div>"
      ],
      "text/plain": [
       "                             mean          std\n",
       "class                                         \n",
       "T_cell_poor_high_SDI    37.583333    39.619688\n",
       "T_cell_poor_low_SDI    116.000000          NaN\n",
       "T_cell_rich_high_SDI   965.666667  1216.758124\n",
       "T_cell_rich_low_SDI   3862.333333   466.422913"
      ]
     },
     "metadata": {},
     "output_type": "display_data"
    },
    {
     "name": "stdout",
     "output_type": "stream",
     "text": [
      "TRUST4\n"
     ]
    },
    {
     "data": {
      "text/html": [
       "<div>\n",
       "<style scoped>\n",
       "    .dataframe tbody tr th:only-of-type {\n",
       "        vertical-align: middle;\n",
       "    }\n",
       "\n",
       "    .dataframe tbody tr th {\n",
       "        vertical-align: top;\n",
       "    }\n",
       "\n",
       "    .dataframe thead th {\n",
       "        text-align: right;\n",
       "    }\n",
       "</style>\n",
       "<table border=\"1\" class=\"dataframe\">\n",
       "  <thead>\n",
       "    <tr style=\"text-align: right;\">\n",
       "      <th></th>\n",
       "      <th>mean</th>\n",
       "      <th>std</th>\n",
       "    </tr>\n",
       "    <tr>\n",
       "      <th>class</th>\n",
       "      <th></th>\n",
       "      <th></th>\n",
       "    </tr>\n",
       "  </thead>\n",
       "  <tbody>\n",
       "    <tr>\n",
       "      <th>T_cell_poor_high_SDI</th>\n",
       "      <td>66.750000</td>\n",
       "      <td>59.296060</td>\n",
       "    </tr>\n",
       "    <tr>\n",
       "      <th>T_cell_poor_low_SDI</th>\n",
       "      <td>175.000000</td>\n",
       "      <td>NaN</td>\n",
       "    </tr>\n",
       "    <tr>\n",
       "      <th>T_cell_rich_high_SDI</th>\n",
       "      <td>1037.666667</td>\n",
       "      <td>1192.201465</td>\n",
       "    </tr>\n",
       "    <tr>\n",
       "      <th>T_cell_rich_low_SDI</th>\n",
       "      <td>4450.666667</td>\n",
       "      <td>723.176558</td>\n",
       "    </tr>\n",
       "  </tbody>\n",
       "</table>\n",
       "</div>"
      ],
      "text/plain": [
       "                             mean          std\n",
       "class                                         \n",
       "T_cell_poor_high_SDI    66.750000    59.296060\n",
       "T_cell_poor_low_SDI    175.000000          NaN\n",
       "T_cell_rich_high_SDI  1037.666667  1192.201465\n",
       "T_cell_rich_low_SDI   4450.666667   723.176558"
      ]
     },
     "metadata": {},
     "output_type": "display_data"
    },
    {
     "name": "stdout",
     "output_type": "stream",
     "text": [
      "CATT\n"
     ]
    },
    {
     "data": {
      "text/html": [
       "<div>\n",
       "<style scoped>\n",
       "    .dataframe tbody tr th:only-of-type {\n",
       "        vertical-align: middle;\n",
       "    }\n",
       "\n",
       "    .dataframe tbody tr th {\n",
       "        vertical-align: top;\n",
       "    }\n",
       "\n",
       "    .dataframe thead th {\n",
       "        text-align: right;\n",
       "    }\n",
       "</style>\n",
       "<table border=\"1\" class=\"dataframe\">\n",
       "  <thead>\n",
       "    <tr style=\"text-align: right;\">\n",
       "      <th></th>\n",
       "      <th>mean</th>\n",
       "      <th>std</th>\n",
       "    </tr>\n",
       "    <tr>\n",
       "      <th>class</th>\n",
       "      <th></th>\n",
       "      <th></th>\n",
       "    </tr>\n",
       "  </thead>\n",
       "  <tbody>\n",
       "    <tr>\n",
       "      <th>T_cell_poor_high_SDI</th>\n",
       "      <td>91.916667</td>\n",
       "      <td>53.467846</td>\n",
       "    </tr>\n",
       "    <tr>\n",
       "      <th>T_cell_poor_low_SDI</th>\n",
       "      <td>242.000000</td>\n",
       "      <td>NaN</td>\n",
       "    </tr>\n",
       "    <tr>\n",
       "      <th>T_cell_rich_high_SDI</th>\n",
       "      <td>612.000000</td>\n",
       "      <td>551.881328</td>\n",
       "    </tr>\n",
       "    <tr>\n",
       "      <th>T_cell_rich_low_SDI</th>\n",
       "      <td>3884.666667</td>\n",
       "      <td>745.962689</td>\n",
       "    </tr>\n",
       "  </tbody>\n",
       "</table>\n",
       "</div>"
      ],
      "text/plain": [
       "                             mean         std\n",
       "class                                        \n",
       "T_cell_poor_high_SDI    91.916667   53.467846\n",
       "T_cell_poor_low_SDI    242.000000         NaN\n",
       "T_cell_rich_high_SDI   612.000000  551.881328\n",
       "T_cell_rich_low_SDI   3884.666667  745.962689"
      ]
     },
     "metadata": {},
     "output_type": "display_data"
    }
   ],
   "source": [
    "mean_confirmed_clonotype = clonotype.groupby(\"class\")[\"clonotype_count_tool\"].agg([\"mean\", \"std\"])\n",
    "display(mean_confirmed_clonotype)\n",
    "tools = ['MIXCR','IMREP','TRUST4','CATT']              \n",
    "for tool in tools:\n",
    "    print(tool)\n",
    "    df_tool = clonotype.loc[clonotype['tool'] == tool]\n",
    "    mean_confirmed_clonotype_tool = df_tool.groupby(\"class\")[\"clonotype_count_tool\"].agg([\"mean\", \"std\"]) \n",
    "    display(mean_confirmed_clonotype_tool)"
   ]
  },
  {
   "cell_type": "markdown",
   "metadata": {},
   "source": [
    "## T_cell_rich_low_SDI samples"
   ]
  },
  {
   "cell_type": "code",
   "execution_count": 5,
   "metadata": {},
   "outputs": [],
   "source": [
    "T_cell_rich_low_SDI = clonotype.loc[clonotype['class'] == 'T_cell_rich_low_SDI']"
   ]
  },
  {
   "cell_type": "code",
   "execution_count": 6,
   "metadata": {},
   "outputs": [
    {
     "data": {
      "text/plain": [
       "Ttest_indResult(statistic=-3.9948052758136705, pvalue=0.016199965821544975)"
      ]
     },
     "execution_count": 6,
     "metadata": {},
     "output_type": "execute_result"
    }
   ],
   "source": [
    "df_group1 = T_cell_rich_low_SDI[T_cell_rich_low_SDI['tool'] == 'MIXCR']\n",
    "df_group2 = T_cell_rich_low_SDI[T_cell_rich_low_SDI['tool'] == 'IMREP']\n",
    "\n",
    "stats.ttest_ind(df_group1['clonotype_count_tool'],df_group2['clonotype_count_tool'])"
   ]
  },
  {
   "cell_type": "code",
   "execution_count": 7,
   "metadata": {},
   "outputs": [
    {
     "data": {
      "text/plain": [
       "Ttest_indResult(statistic=-4.375609256369988, pvalue=0.011915708603934079)"
      ]
     },
     "execution_count": 7,
     "metadata": {},
     "output_type": "execute_result"
    }
   ],
   "source": [
    "df_group1 = T_cell_rich_low_SDI[T_cell_rich_low_SDI['tool'] == 'MIXCR']\n",
    "df_group2 = T_cell_rich_low_SDI[T_cell_rich_low_SDI['tool'] == 'TRUST4']\n",
    "\n",
    "stats.ttest_ind(df_group1['clonotype_count_tool'],df_group2['clonotype_count_tool'])"
   ]
  },
  {
   "cell_type": "code",
   "execution_count": 8,
   "metadata": {},
   "outputs": [
    {
     "data": {
      "text/plain": [
       "Ttest_indResult(statistic=-3.4189161832010964, pvalue=0.02680684138575569)"
      ]
     },
     "execution_count": 8,
     "metadata": {},
     "output_type": "execute_result"
    }
   ],
   "source": [
    "df_group1 = T_cell_rich_low_SDI[T_cell_rich_low_SDI['tool'] == 'MIXCR']\n",
    "df_group2 = T_cell_rich_low_SDI[T_cell_rich_low_SDI['tool'] == 'CATT']\n",
    "\n",
    "stats.ttest_ind(df_group1['clonotype_count_tool'],df_group2['clonotype_count_tool'])"
   ]
  },
  {
   "cell_type": "code",
   "execution_count": 9,
   "metadata": {},
   "outputs": [
    {
     "data": {
      "text/plain": [
       "Ttest_indResult(statistic=-1.1841627225785132, pvalue=0.3019064069859213)"
      ]
     },
     "execution_count": 9,
     "metadata": {},
     "output_type": "execute_result"
    }
   ],
   "source": [
    "df_group1 = T_cell_rich_low_SDI[T_cell_rich_low_SDI['tool'] == 'IMREP']\n",
    "df_group2 = T_cell_rich_low_SDI[T_cell_rich_low_SDI['tool'] == 'TRUST4']\n",
    "\n",
    "stats.ttest_ind(df_group1['clonotype_count_tool'],df_group2['clonotype_count_tool'])"
   ]
  },
  {
   "cell_type": "code",
   "execution_count": 10,
   "metadata": {},
   "outputs": [
    {
     "data": {
      "text/plain": [
       "Ttest_indResult(statistic=-0.043968404093680975, pvalue=0.9670369715406371)"
      ]
     },
     "execution_count": 10,
     "metadata": {},
     "output_type": "execute_result"
    }
   ],
   "source": [
    "df_group1 = T_cell_rich_low_SDI[T_cell_rich_low_SDI['tool'] == 'IMREP']\n",
    "df_group2 = T_cell_rich_low_SDI[T_cell_rich_low_SDI['tool'] == 'CATT']\n",
    "\n",
    "stats.ttest_ind(df_group1['clonotype_count_tool'],df_group2['clonotype_count_tool'])"
   ]
  },
  {
   "cell_type": "code",
   "execution_count": 11,
   "metadata": {},
   "outputs": [
    {
     "data": {
      "text/plain": [
       "Ttest_indResult(statistic=0.9435759567400029, pvalue=0.3988134626125689)"
      ]
     },
     "execution_count": 11,
     "metadata": {},
     "output_type": "execute_result"
    }
   ],
   "source": [
    "df_group1 = T_cell_rich_low_SDI[T_cell_rich_low_SDI['tool'] == 'TRUST4']\n",
    "df_group2 = T_cell_rich_low_SDI[T_cell_rich_low_SDI['tool'] == 'CATT']\n",
    "\n",
    "stats.ttest_ind(df_group1['clonotype_count_tool'],df_group2['clonotype_count_tool'])"
   ]
  },
  {
   "cell_type": "markdown",
   "metadata": {},
   "source": [
    "## T_cell_rich_high_SDI samples"
   ]
  },
  {
   "cell_type": "code",
   "execution_count": 12,
   "metadata": {},
   "outputs": [],
   "source": [
    "T_cell_rich_high_SDI = clonotype.loc[clonotype['class'] == 'T_cell_rich_high_SDI']"
   ]
  },
  {
   "cell_type": "code",
   "execution_count": 13,
   "metadata": {},
   "outputs": [
    {
     "data": {
      "text/plain": [
       "Ttest_indResult(statistic=-1.1554524742721475, pvalue=0.3122253886558171)"
      ]
     },
     "execution_count": 13,
     "metadata": {},
     "output_type": "execute_result"
    }
   ],
   "source": [
    "df_group1 = T_cell_rich_high_SDI[T_cell_rich_high_SDI['tool'] == 'MIXCR']\n",
    "df_group2 = T_cell_rich_high_SDI[T_cell_rich_high_SDI['tool'] == 'IMREP']\n",
    "\n",
    "stats.ttest_ind(df_group1['clonotype_count_tool'],df_group2['clonotype_count_tool'])"
   ]
  },
  {
   "cell_type": "code",
   "execution_count": 14,
   "metadata": {},
   "outputs": [
    {
     "data": {
      "text/plain": [
       "Ttest_indResult(statistic=-1.2821324667954137, pvalue=0.26906112753823963)"
      ]
     },
     "execution_count": 14,
     "metadata": {},
     "output_type": "execute_result"
    }
   ],
   "source": [
    "df_group1 = T_cell_rich_high_SDI[T_cell_rich_high_SDI['tool'] == 'MIXCR']\n",
    "df_group2 = T_cell_rich_high_SDI[T_cell_rich_high_SDI['tool'] == 'TRUST4']\n",
    "\n",
    "stats.ttest_ind(df_group1['clonotype_count_tool'],df_group2['clonotype_count_tool'])"
   ]
  },
  {
   "cell_type": "code",
   "execution_count": 15,
   "metadata": {},
   "outputs": [
    {
     "data": {
      "text/plain": [
       "Ttest_indResult(statistic=-1.3924033833498795, pvalue=0.2362124306443352)"
      ]
     },
     "execution_count": 15,
     "metadata": {},
     "output_type": "execute_result"
    }
   ],
   "source": [
    "df_group1 = T_cell_rich_high_SDI[T_cell_rich_high_SDI['tool'] == 'MIXCR']\n",
    "df_group2 = T_cell_rich_high_SDI[T_cell_rich_high_SDI['tool'] == 'CATT']\n",
    "\n",
    "stats.ttest_ind(df_group1['clonotype_count_tool'],df_group2['clonotype_count_tool'])"
   ]
  },
  {
   "cell_type": "code",
   "execution_count": 16,
   "metadata": {},
   "outputs": [
    {
     "data": {
      "text/plain": [
       "Ttest_indResult(statistic=-0.07320757871656497, pvalue=0.945155533749319)"
      ]
     },
     "execution_count": 16,
     "metadata": {},
     "output_type": "execute_result"
    }
   ],
   "source": [
    "df_group1 = T_cell_rich_high_SDI[T_cell_rich_high_SDI['tool'] == 'IMREP']\n",
    "df_group2 = T_cell_rich_high_SDI[T_cell_rich_high_SDI['tool'] == 'TRUST4']\n",
    "\n",
    "stats.ttest_ind(df_group1['clonotype_count_tool'],df_group2['clonotype_count_tool'])"
   ]
  },
  {
   "cell_type": "code",
   "execution_count": 17,
   "metadata": {},
   "outputs": [
    {
     "data": {
      "text/plain": [
       "Ttest_indResult(statistic=0.45848668252886726, pvalue=0.6704074619471836)"
      ]
     },
     "execution_count": 17,
     "metadata": {},
     "output_type": "execute_result"
    }
   ],
   "source": [
    "df_group1 = T_cell_rich_high_SDI[T_cell_rich_high_SDI['tool'] == 'IMREP']\n",
    "df_group2 = T_cell_rich_high_SDI[T_cell_rich_high_SDI['tool'] == 'CATT']\n",
    "\n",
    "stats.ttest_ind(df_group1['clonotype_count_tool'],df_group2['clonotype_count_tool'])"
   ]
  },
  {
   "cell_type": "code",
   "execution_count": 18,
   "metadata": {},
   "outputs": [
    {
     "data": {
      "text/plain": [
       "Ttest_indResult(statistic=0.561203375730923, pvalue=0.6046091608141135)"
      ]
     },
     "execution_count": 18,
     "metadata": {},
     "output_type": "execute_result"
    }
   ],
   "source": [
    "df_group1 = T_cell_rich_high_SDI[T_cell_rich_high_SDI['tool'] == 'TRUST4']\n",
    "df_group2 = T_cell_rich_high_SDI[T_cell_rich_high_SDI['tool'] == 'CATT']\n",
    "\n",
    "stats.ttest_ind(df_group1['clonotype_count_tool'],df_group2['clonotype_count_tool'])"
   ]
  },
  {
   "cell_type": "markdown",
   "metadata": {},
   "source": [
    "## T_cell_poor_high_SDI samples"
   ]
  },
  {
   "cell_type": "code",
   "execution_count": 19,
   "metadata": {},
   "outputs": [],
   "source": [
    "T_cell_poor_high_SDI = clonotype.loc[clonotype['class'] == 'T_cell_poor_high_SDI']"
   ]
  },
  {
   "cell_type": "code",
   "execution_count": 20,
   "metadata": {},
   "outputs": [
    {
     "data": {
      "text/plain": [
       "Ttest_indResult(statistic=-0.8601556044059201, pvalue=0.40101513700513103)"
      ]
     },
     "execution_count": 20,
     "metadata": {},
     "output_type": "execute_result"
    }
   ],
   "source": [
    "df_group1 = T_cell_poor_high_SDI[T_cell_poor_high_SDI['tool'] == 'MIXCR']\n",
    "df_group2 = T_cell_poor_high_SDI[T_cell_poor_high_SDI['tool'] == 'IMREP']\n",
    "\n",
    "stats.ttest_ind(df_group1['clonotype_count_tool'],df_group2['clonotype_count_tool'])"
   ]
  },
  {
   "cell_type": "code",
   "execution_count": 21,
   "metadata": {},
   "outputs": [
    {
     "data": {
      "text/plain": [
       "Ttest_indResult(statistic=-1.9396599329431308, pvalue=0.06825625697855864)"
      ]
     },
     "execution_count": 21,
     "metadata": {},
     "output_type": "execute_result"
    }
   ],
   "source": [
    "df_group1 = T_cell_poor_high_SDI[T_cell_poor_high_SDI['tool'] == 'MIXCR']\n",
    "df_group2 = T_cell_poor_high_SDI[T_cell_poor_high_SDI['tool'] == 'TRUST4']\n",
    "\n",
    "stats.ttest_ind(df_group1['clonotype_count_tool'],df_group2['clonotype_count_tool'])"
   ]
  },
  {
   "cell_type": "code",
   "execution_count": 22,
   "metadata": {},
   "outputs": [
    {
     "data": {
      "text/plain": [
       "Ttest_indResult(statistic=-3.4283331929405594, pvalue=0.002997322586991822)"
      ]
     },
     "execution_count": 22,
     "metadata": {},
     "output_type": "execute_result"
    }
   ],
   "source": [
    "df_group1 = T_cell_poor_high_SDI[T_cell_poor_high_SDI['tool'] == 'MIXCR']\n",
    "df_group2 = T_cell_poor_high_SDI[T_cell_poor_high_SDI['tool'] == 'CATT']\n",
    "\n",
    "stats.ttest_ind(df_group1['clonotype_count_tool'],df_group2['clonotype_count_tool'])"
   ]
  },
  {
   "cell_type": "code",
   "execution_count": 23,
   "metadata": {},
   "outputs": [
    {
     "data": {
      "text/plain": [
       "Ttest_indResult(statistic=-1.4167728994111142, pvalue=0.17055496281284893)"
      ]
     },
     "execution_count": 23,
     "metadata": {},
     "output_type": "execute_result"
    }
   ],
   "source": [
    "df_group1 = T_cell_poor_high_SDI[T_cell_poor_high_SDI['tool'] == 'IMREP']\n",
    "df_group2 = T_cell_poor_high_SDI[T_cell_poor_high_SDI['tool'] == 'TRUST4']\n",
    "\n",
    "stats.ttest_ind(df_group1['clonotype_count_tool'],df_group2['clonotype_count_tool'])"
   ]
  },
  {
   "cell_type": "code",
   "execution_count": 24,
   "metadata": {},
   "outputs": [
    {
     "data": {
      "text/plain": [
       "Ttest_indResult(statistic=-2.8283109981761516, pvalue=0.00978481366332312)"
      ]
     },
     "execution_count": 24,
     "metadata": {},
     "output_type": "execute_result"
    }
   ],
   "source": [
    "df_group1 = T_cell_poor_high_SDI[T_cell_poor_high_SDI['tool'] == 'IMREP']\n",
    "df_group2 = T_cell_poor_high_SDI[T_cell_poor_high_SDI['tool'] == 'CATT']\n",
    "\n",
    "stats.ttest_ind(df_group1['clonotype_count_tool'],df_group2['clonotype_count_tool'])"
   ]
  },
  {
   "cell_type": "code",
   "execution_count": 25,
   "metadata": {},
   "outputs": [
    {
     "data": {
      "text/plain": [
       "Ttest_indResult(statistic=-1.0918975776181423, pvalue=0.2866919459760997)"
      ]
     },
     "execution_count": 25,
     "metadata": {},
     "output_type": "execute_result"
    }
   ],
   "source": [
    "df_group1 = T_cell_poor_high_SDI[T_cell_poor_high_SDI['tool'] == 'TRUST4']\n",
    "df_group2 = T_cell_poor_high_SDI[T_cell_poor_high_SDI['tool'] == 'CATT']\n",
    "\n",
    "stats.ttest_ind(df_group1['clonotype_count_tool'],df_group2['clonotype_count_tool'])"
   ]
  },
  {
   "cell_type": "code",
   "execution_count": null,
   "metadata": {},
   "outputs": [],
   "source": []
  }
 ],
 "metadata": {
  "kernelspec": {
   "display_name": "Python 3 (ipykernel)",
   "language": "python",
   "name": "python3"
  },
  "language_info": {
   "codemirror_mode": {
    "name": "ipython",
    "version": 3
   },
   "file_extension": ".py",
   "mimetype": "text/x-python",
   "name": "python",
   "nbconvert_exporter": "python",
   "pygments_lexer": "ipython3",
   "version": "3.7.4"
  }
 },
 "nbformat": 4,
 "nbformat_minor": 2
}
