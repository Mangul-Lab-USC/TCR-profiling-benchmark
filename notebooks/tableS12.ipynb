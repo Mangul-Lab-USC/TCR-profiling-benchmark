{
 "cells": [
  {
   "cell_type": "code",
   "execution_count": 1,
   "metadata": {},
   "outputs": [],
   "source": [
    "import pandas as pd\n",
    "import numpy as np\n",
    "from scipy import stats\n",
    "\n",
    "import warnings\n",
    "warnings.simplefilter(action=\"ignore\", category=FutureWarning)"
   ]
  },
  {
   "cell_type": "code",
   "execution_count": 2,
   "metadata": {},
   "outputs": [],
   "source": [
    "df = pd.read_csv(\"../summary_data/original/all_tools_TRB.csv\")\n",
    "df = df.loc[~(df['frequency_TCR'] == 0)]\n",
    "df2 = pd.read_csv(\"../summary_data/original/all_tools_TRB_diversity.csv\")"
   ]
  },
  {
   "cell_type": "code",
   "execution_count": 3,
   "metadata": {},
   "outputs": [
    {
     "data": {
      "text/html": [
       "<div>\n",
       "<style scoped>\n",
       "    .dataframe tbody tr th:only-of-type {\n",
       "        vertical-align: middle;\n",
       "    }\n",
       "\n",
       "    .dataframe tbody tr th {\n",
       "        vertical-align: top;\n",
       "    }\n",
       "\n",
       "    .dataframe thead th {\n",
       "        text-align: right;\n",
       "    }\n",
       "</style>\n",
       "<table border=\"1\" class=\"dataframe\">\n",
       "  <thead>\n",
       "    <tr style=\"text-align: right;\">\n",
       "      <th></th>\n",
       "      <th>Sample</th>\n",
       "      <th>confirmed_clonotype_count_tool</th>\n",
       "      <th>tool</th>\n",
       "      <th>tissue</th>\n",
       "      <th>class</th>\n",
       "      <th>clonotype_count_tool</th>\n",
       "    </tr>\n",
       "  </thead>\n",
       "  <tbody>\n",
       "    <tr>\n",
       "      <th>0</th>\n",
       "      <td>SRR5233637</td>\n",
       "      <td>24</td>\n",
       "      <td>MIXCR</td>\n",
       "      <td>small_intestine</td>\n",
       "      <td>T_cell_poor_high_SDI</td>\n",
       "      <td>24</td>\n",
       "    </tr>\n",
       "    <tr>\n",
       "      <th>1</th>\n",
       "      <td>SRR5233639</td>\n",
       "      <td>340</td>\n",
       "      <td>MIXCR</td>\n",
       "      <td>lymph_node</td>\n",
       "      <td>T_cell_rich_high_SDI</td>\n",
       "      <td>353</td>\n",
       "    </tr>\n",
       "    <tr>\n",
       "      <th>2</th>\n",
       "      <td>sample01</td>\n",
       "      <td>473</td>\n",
       "      <td>MIXCR</td>\n",
       "      <td>PBMC</td>\n",
       "      <td>T_cell_rich_low_SDI</td>\n",
       "      <td>2592</td>\n",
       "    </tr>\n",
       "    <tr>\n",
       "      <th>3</th>\n",
       "      <td>sample02</td>\n",
       "      <td>170</td>\n",
       "      <td>MIXCR</td>\n",
       "      <td>PBMC</td>\n",
       "      <td>T_cell_rich_low_SDI</td>\n",
       "      <td>1565</td>\n",
       "    </tr>\n",
       "    <tr>\n",
       "      <th>4</th>\n",
       "      <td>sample03</td>\n",
       "      <td>307</td>\n",
       "      <td>MIXCR</td>\n",
       "      <td>PBMC</td>\n",
       "      <td>T_cell_rich_low_SDI</td>\n",
       "      <td>1012</td>\n",
       "    </tr>\n",
       "    <tr>\n",
       "      <th>...</th>\n",
       "      <td>...</td>\n",
       "      <td>...</td>\n",
       "      <td>...</td>\n",
       "      <td>...</td>\n",
       "      <td>...</td>\n",
       "      <td>...</td>\n",
       "    </tr>\n",
       "    <tr>\n",
       "      <th>67</th>\n",
       "      <td>sample10</td>\n",
       "      <td>36</td>\n",
       "      <td>CATT</td>\n",
       "      <td>melanoma</td>\n",
       "      <td>T_cell_poor_high_SDI</td>\n",
       "      <td>103</td>\n",
       "    </tr>\n",
       "    <tr>\n",
       "      <th>68</th>\n",
       "      <td>sample11</td>\n",
       "      <td>6</td>\n",
       "      <td>CATT</td>\n",
       "      <td>melanoma</td>\n",
       "      <td>T_cell_poor_high_SDI</td>\n",
       "      <td>71</td>\n",
       "    </tr>\n",
       "    <tr>\n",
       "      <th>69</th>\n",
       "      <td>sample12</td>\n",
       "      <td>6</td>\n",
       "      <td>CATT</td>\n",
       "      <td>melanoma</td>\n",
       "      <td>T_cell_poor_high_SDI</td>\n",
       "      <td>105</td>\n",
       "    </tr>\n",
       "    <tr>\n",
       "      <th>70</th>\n",
       "      <td>sample13</td>\n",
       "      <td>15</td>\n",
       "      <td>CATT</td>\n",
       "      <td>melanoma</td>\n",
       "      <td>T_cell_poor_low_SDI</td>\n",
       "      <td>242</td>\n",
       "    </tr>\n",
       "    <tr>\n",
       "      <th>71</th>\n",
       "      <td>sample14</td>\n",
       "      <td>37</td>\n",
       "      <td>CATT</td>\n",
       "      <td>melanoma</td>\n",
       "      <td>T_cell_poor_high_SDI</td>\n",
       "      <td>86</td>\n",
       "    </tr>\n",
       "  </tbody>\n",
       "</table>\n",
       "<p>72 rows × 6 columns</p>\n",
       "</div>"
      ],
      "text/plain": [
       "        Sample  confirmed_clonotype_count_tool   tool           tissue  \\\n",
       "0   SRR5233637                              24  MIXCR  small_intestine   \n",
       "1   SRR5233639                             340  MIXCR       lymph_node   \n",
       "2     sample01                             473  MIXCR             PBMC   \n",
       "3     sample02                             170  MIXCR             PBMC   \n",
       "4     sample03                             307  MIXCR             PBMC   \n",
       "..         ...                             ...    ...              ...   \n",
       "67    sample10                              36   CATT         melanoma   \n",
       "68    sample11                               6   CATT         melanoma   \n",
       "69    sample12                               6   CATT         melanoma   \n",
       "70    sample13                              15   CATT         melanoma   \n",
       "71    sample14                              37   CATT         melanoma   \n",
       "\n",
       "                   class  clonotype_count_tool  \n",
       "0   T_cell_poor_high_SDI                    24  \n",
       "1   T_cell_rich_high_SDI                   353  \n",
       "2    T_cell_rich_low_SDI                  2592  \n",
       "3    T_cell_rich_low_SDI                  1565  \n",
       "4    T_cell_rich_low_SDI                  1012  \n",
       "..                   ...                   ...  \n",
       "67  T_cell_poor_high_SDI                   103  \n",
       "68  T_cell_poor_high_SDI                    71  \n",
       "69  T_cell_poor_high_SDI                   105  \n",
       "70   T_cell_poor_low_SDI                   242  \n",
       "71  T_cell_poor_high_SDI                    86  \n",
       "\n",
       "[72 rows x 6 columns]"
      ]
     },
     "execution_count": 3,
     "metadata": {},
     "output_type": "execute_result"
    }
   ],
   "source": [
    "## Calculate TCR-Seq confirmed clonotypes\n",
    "\n",
    "# MIXCR\n",
    "MIXCR = df[df.nReads_MIXCR != 0]\n",
    "clonotype_count_MIXCR = MIXCR.groupby(['Sample'], sort=False).size().reset_index(name='confirmed_clonotype_count_tool')\n",
    "clonotype_count_MIXCR['tool'] = 'MIXCR'\n",
    "\n",
    "# IMREP\n",
    "IMREP = df[df.nReads_IMREP != 0]\n",
    "clonotype_count_IMREP = IMREP.groupby(['Sample'], sort=False).size().reset_index(name='confirmed_clonotype_count_tool')\n",
    "clonotype_count_IMREP['tool'] = 'IMREP'\n",
    "\n",
    "# TRUST4\n",
    "TRUST4 = df[df.nReads_TRUST4 != 0]\n",
    "clonotype_count_TRUST4 = TRUST4.groupby(['Sample'], sort=False).size().reset_index(name='confirmed_clonotype_count_tool')\n",
    "clonotype_count_TRUST4['tool'] = 'TRUST4'\n",
    "\n",
    "# CATT\n",
    "CATT = df[df.nReads_CATT != 0]\n",
    "clonotype_count_CATT = CATT.groupby(['Sample'], sort=False).size().reset_index(name='confirmed_clonotype_count_tool')\n",
    "clonotype_count_CATT['tool'] = 'CATT'\n",
    "\n",
    "confirmed_clonotype_count = pd.concat([clonotype_count_MIXCR,clonotype_count_IMREP,clonotype_count_TRUST4,clonotype_count_CATT])\n",
    "clonotype_count = df2[['Sample','tissue','class','clonotype_count_tool','tool']]\n",
    "clonotype = pd.merge(confirmed_clonotype_count, clonotype_count, how='inner', on=['Sample','tool'])\n",
    "\n",
    "clonotype"
   ]
  },
  {
   "cell_type": "code",
   "execution_count": 4,
   "metadata": {},
   "outputs": [
    {
     "data": {
      "text/html": [
       "<div>\n",
       "<style scoped>\n",
       "    .dataframe tbody tr th:only-of-type {\n",
       "        vertical-align: middle;\n",
       "    }\n",
       "\n",
       "    .dataframe tbody tr th {\n",
       "        vertical-align: top;\n",
       "    }\n",
       "\n",
       "    .dataframe thead th {\n",
       "        text-align: right;\n",
       "    }\n",
       "</style>\n",
       "<table border=\"1\" class=\"dataframe\">\n",
       "  <thead>\n",
       "    <tr style=\"text-align: right;\">\n",
       "      <th></th>\n",
       "      <th>mean</th>\n",
       "      <th>std</th>\n",
       "    </tr>\n",
       "    <tr>\n",
       "      <th>class</th>\n",
       "      <th></th>\n",
       "      <th></th>\n",
       "    </tr>\n",
       "  </thead>\n",
       "  <tbody>\n",
       "    <tr>\n",
       "      <th>T_cell_poor_high_SDI</th>\n",
       "      <td>30.659091</td>\n",
       "      <td>29.999181</td>\n",
       "    </tr>\n",
       "    <tr>\n",
       "      <th>T_cell_poor_low_SDI</th>\n",
       "      <td>15.500000</td>\n",
       "      <td>1.290994</td>\n",
       "    </tr>\n",
       "    <tr>\n",
       "      <th>T_cell_rich_high_SDI</th>\n",
       "      <td>456.750000</td>\n",
       "      <td>671.706392</td>\n",
       "    </tr>\n",
       "    <tr>\n",
       "      <th>T_cell_rich_low_SDI</th>\n",
       "      <td>448.416667</td>\n",
       "      <td>161.019174</td>\n",
       "    </tr>\n",
       "  </tbody>\n",
       "</table>\n",
       "</div>"
      ],
      "text/plain": [
       "                            mean         std\n",
       "class                                       \n",
       "T_cell_poor_high_SDI   30.659091   29.999181\n",
       "T_cell_poor_low_SDI    15.500000    1.290994\n",
       "T_cell_rich_high_SDI  456.750000  671.706392\n",
       "T_cell_rich_low_SDI   448.416667  161.019174"
      ]
     },
     "metadata": {},
     "output_type": "display_data"
    },
    {
     "name": "stdout",
     "output_type": "stream",
     "text": [
      "MIXCR\n"
     ]
    },
    {
     "data": {
      "text/html": [
       "<div>\n",
       "<style scoped>\n",
       "    .dataframe tbody tr th:only-of-type {\n",
       "        vertical-align: middle;\n",
       "    }\n",
       "\n",
       "    .dataframe tbody tr th {\n",
       "        vertical-align: top;\n",
       "    }\n",
       "\n",
       "    .dataframe thead th {\n",
       "        text-align: right;\n",
       "    }\n",
       "</style>\n",
       "<table border=\"1\" class=\"dataframe\">\n",
       "  <thead>\n",
       "    <tr style=\"text-align: right;\">\n",
       "      <th></th>\n",
       "      <th>mean</th>\n",
       "      <th>std</th>\n",
       "    </tr>\n",
       "    <tr>\n",
       "      <th>class</th>\n",
       "      <th></th>\n",
       "      <th></th>\n",
       "    </tr>\n",
       "  </thead>\n",
       "  <tbody>\n",
       "    <tr>\n",
       "      <th>T_cell_poor_high_SDI</th>\n",
       "      <td>19.875000</td>\n",
       "      <td>13.043197</td>\n",
       "    </tr>\n",
       "    <tr>\n",
       "      <th>T_cell_poor_low_SDI</th>\n",
       "      <td>17.000000</td>\n",
       "      <td>NaN</td>\n",
       "    </tr>\n",
       "    <tr>\n",
       "      <th>T_cell_rich_high_SDI</th>\n",
       "      <td>128.333333</td>\n",
       "      <td>183.962859</td>\n",
       "    </tr>\n",
       "    <tr>\n",
       "      <th>T_cell_rich_low_SDI</th>\n",
       "      <td>316.666667</td>\n",
       "      <td>151.731122</td>\n",
       "    </tr>\n",
       "  </tbody>\n",
       "</table>\n",
       "</div>"
      ],
      "text/plain": [
       "                            mean         std\n",
       "class                                       \n",
       "T_cell_poor_high_SDI   19.875000   13.043197\n",
       "T_cell_poor_low_SDI    17.000000         NaN\n",
       "T_cell_rich_high_SDI  128.333333  183.962859\n",
       "T_cell_rich_low_SDI   316.666667  151.731122"
      ]
     },
     "metadata": {},
     "output_type": "display_data"
    },
    {
     "name": "stdout",
     "output_type": "stream",
     "text": [
      "IMREP\n"
     ]
    },
    {
     "data": {
      "text/html": [
       "<div>\n",
       "<style scoped>\n",
       "    .dataframe tbody tr th:only-of-type {\n",
       "        vertical-align: middle;\n",
       "    }\n",
       "\n",
       "    .dataframe tbody tr th {\n",
       "        vertical-align: top;\n",
       "    }\n",
       "\n",
       "    .dataframe thead th {\n",
       "        text-align: right;\n",
       "    }\n",
       "</style>\n",
       "<table border=\"1\" class=\"dataframe\">\n",
       "  <thead>\n",
       "    <tr style=\"text-align: right;\">\n",
       "      <th></th>\n",
       "      <th>mean</th>\n",
       "      <th>std</th>\n",
       "    </tr>\n",
       "    <tr>\n",
       "      <th>class</th>\n",
       "      <th></th>\n",
       "      <th></th>\n",
       "    </tr>\n",
       "  </thead>\n",
       "  <tbody>\n",
       "    <tr>\n",
       "      <th>T_cell_poor_high_SDI</th>\n",
       "      <td>25.583333</td>\n",
       "      <td>27.586091</td>\n",
       "    </tr>\n",
       "    <tr>\n",
       "      <th>T_cell_poor_low_SDI</th>\n",
       "      <td>14.000000</td>\n",
       "      <td>NaN</td>\n",
       "    </tr>\n",
       "    <tr>\n",
       "      <th>T_cell_rich_high_SDI</th>\n",
       "      <td>666.666667</td>\n",
       "      <td>975.836735</td>\n",
       "    </tr>\n",
       "    <tr>\n",
       "      <th>T_cell_rich_low_SDI</th>\n",
       "      <td>478.333333</td>\n",
       "      <td>159.678844</td>\n",
       "    </tr>\n",
       "  </tbody>\n",
       "</table>\n",
       "</div>"
      ],
      "text/plain": [
       "                            mean         std\n",
       "class                                       \n",
       "T_cell_poor_high_SDI   25.583333   27.586091\n",
       "T_cell_poor_low_SDI    14.000000         NaN\n",
       "T_cell_rich_high_SDI  666.666667  975.836735\n",
       "T_cell_rich_low_SDI   478.333333  159.678844"
      ]
     },
     "metadata": {},
     "output_type": "display_data"
    },
    {
     "name": "stdout",
     "output_type": "stream",
     "text": [
      "TRUST4\n"
     ]
    },
    {
     "data": {
      "text/html": [
       "<div>\n",
       "<style scoped>\n",
       "    .dataframe tbody tr th:only-of-type {\n",
       "        vertical-align: middle;\n",
       "    }\n",
       "\n",
       "    .dataframe tbody tr th {\n",
       "        vertical-align: top;\n",
       "    }\n",
       "\n",
       "    .dataframe thead th {\n",
       "        text-align: right;\n",
       "    }\n",
       "</style>\n",
       "<table border=\"1\" class=\"dataframe\">\n",
       "  <thead>\n",
       "    <tr style=\"text-align: right;\">\n",
       "      <th></th>\n",
       "      <th>mean</th>\n",
       "      <th>std</th>\n",
       "    </tr>\n",
       "    <tr>\n",
       "      <th>class</th>\n",
       "      <th></th>\n",
       "      <th></th>\n",
       "    </tr>\n",
       "  </thead>\n",
       "  <tbody>\n",
       "    <tr>\n",
       "      <th>T_cell_poor_high_SDI</th>\n",
       "      <td>42.416667</td>\n",
       "      <td>39.566879</td>\n",
       "    </tr>\n",
       "    <tr>\n",
       "      <th>T_cell_poor_low_SDI</th>\n",
       "      <td>16.000000</td>\n",
       "      <td>NaN</td>\n",
       "    </tr>\n",
       "    <tr>\n",
       "      <th>T_cell_rich_high_SDI</th>\n",
       "      <td>701.000000</td>\n",
       "      <td>979.815799</td>\n",
       "    </tr>\n",
       "    <tr>\n",
       "      <th>T_cell_rich_low_SDI</th>\n",
       "      <td>538.000000</td>\n",
       "      <td>160.944090</td>\n",
       "    </tr>\n",
       "  </tbody>\n",
       "</table>\n",
       "</div>"
      ],
      "text/plain": [
       "                            mean         std\n",
       "class                                       \n",
       "T_cell_poor_high_SDI   42.416667   39.566879\n",
       "T_cell_poor_low_SDI    16.000000         NaN\n",
       "T_cell_rich_high_SDI  701.000000  979.815799\n",
       "T_cell_rich_low_SDI   538.000000  160.944090"
      ]
     },
     "metadata": {},
     "output_type": "display_data"
    },
    {
     "name": "stdout",
     "output_type": "stream",
     "text": [
      "CATT\n"
     ]
    },
    {
     "data": {
      "text/html": [
       "<div>\n",
       "<style scoped>\n",
       "    .dataframe tbody tr th:only-of-type {\n",
       "        vertical-align: middle;\n",
       "    }\n",
       "\n",
       "    .dataframe tbody tr th {\n",
       "        vertical-align: top;\n",
       "    }\n",
       "\n",
       "    .dataframe thead th {\n",
       "        text-align: right;\n",
       "    }\n",
       "</style>\n",
       "<table border=\"1\" class=\"dataframe\">\n",
       "  <thead>\n",
       "    <tr style=\"text-align: right;\">\n",
       "      <th></th>\n",
       "      <th>mean</th>\n",
       "      <th>std</th>\n",
       "    </tr>\n",
       "    <tr>\n",
       "      <th>class</th>\n",
       "      <th></th>\n",
       "      <th></th>\n",
       "    </tr>\n",
       "  </thead>\n",
       "  <tbody>\n",
       "    <tr>\n",
       "      <th>T_cell_poor_high_SDI</th>\n",
       "      <td>31.166667</td>\n",
       "      <td>28.625587</td>\n",
       "    </tr>\n",
       "    <tr>\n",
       "      <th>T_cell_poor_low_SDI</th>\n",
       "      <td>15.000000</td>\n",
       "      <td>NaN</td>\n",
       "    </tr>\n",
       "    <tr>\n",
       "      <th>T_cell_rich_high_SDI</th>\n",
       "      <td>331.000000</td>\n",
       "      <td>440.809483</td>\n",
       "    </tr>\n",
       "    <tr>\n",
       "      <th>T_cell_rich_low_SDI</th>\n",
       "      <td>460.666667</td>\n",
       "      <td>168.921086</td>\n",
       "    </tr>\n",
       "  </tbody>\n",
       "</table>\n",
       "</div>"
      ],
      "text/plain": [
       "                            mean         std\n",
       "class                                       \n",
       "T_cell_poor_high_SDI   31.166667   28.625587\n",
       "T_cell_poor_low_SDI    15.000000         NaN\n",
       "T_cell_rich_high_SDI  331.000000  440.809483\n",
       "T_cell_rich_low_SDI   460.666667  168.921086"
      ]
     },
     "metadata": {},
     "output_type": "display_data"
    }
   ],
   "source": [
    "mean_confirmed_clonotype = clonotype.groupby(\"class\")[\"confirmed_clonotype_count_tool\"].agg([\"mean\", \"std\"])\n",
    "display(mean_confirmed_clonotype)\n",
    "tools = ['MIXCR','IMREP','TRUST4','CATT']              \n",
    "for tool in tools:\n",
    "    print(tool)\n",
    "    df_tool = clonotype.loc[clonotype['tool'] == tool]\n",
    "    mean_confirmed_clonotype_tool = df_tool.groupby(\"class\")[\"confirmed_clonotype_count_tool\"].agg([\"mean\", \"std\"]) \n",
    "    display(mean_confirmed_clonotype_tool)"
   ]
  },
  {
   "cell_type": "markdown",
   "metadata": {},
   "source": [
    "## T_cell_rich_low_SDI samples"
   ]
  },
  {
   "cell_type": "code",
   "execution_count": 5,
   "metadata": {},
   "outputs": [],
   "source": [
    "T_cell_rich_low_SDI = clonotype.loc[clonotype['class'] == 'T_cell_rich_low_SDI']"
   ]
  },
  {
   "cell_type": "code",
   "execution_count": 6,
   "metadata": {},
   "outputs": [
    {
     "data": {
      "text/plain": [
       "Ttest_indResult(statistic=-1.271224361326518, pvalue=0.272542170089371)"
      ]
     },
     "execution_count": 6,
     "metadata": {},
     "output_type": "execute_result"
    }
   ],
   "source": [
    "df_group1 = T_cell_rich_low_SDI[T_cell_rich_low_SDI['tool'] == 'MIXCR']\n",
    "df_group2 = T_cell_rich_low_SDI[T_cell_rich_low_SDI['tool'] == 'IMREP']\n",
    "\n",
    "stats.ttest_ind(df_group1['confirmed_clonotype_count_tool'],df_group2['confirmed_clonotype_count_tool'])"
   ]
  },
  {
   "cell_type": "code",
   "execution_count": 7,
   "metadata": {},
   "outputs": [
    {
     "data": {
      "text/plain": [
       "Ttest_indResult(statistic=-1.7331675748412383, pvalue=0.15809582408501627)"
      ]
     },
     "execution_count": 7,
     "metadata": {},
     "output_type": "execute_result"
    }
   ],
   "source": [
    "df_group1 = T_cell_rich_low_SDI[T_cell_rich_low_SDI['tool'] == 'MIXCR']\n",
    "df_group2 = T_cell_rich_low_SDI[T_cell_rich_low_SDI['tool'] == 'TRUST4']\n",
    "\n",
    "stats.ttest_ind(df_group1['confirmed_clonotype_count_tool'],df_group2['confirmed_clonotype_count_tool'])"
   ]
  },
  {
   "cell_type": "code",
   "execution_count": 8,
   "metadata": {},
   "outputs": [
    {
     "data": {
      "text/plain": [
       "Ttest_indResult(statistic=-1.0984510391726001, pvalue=0.33368414870440843)"
      ]
     },
     "execution_count": 8,
     "metadata": {},
     "output_type": "execute_result"
    }
   ],
   "source": [
    "df_group1 = T_cell_rich_low_SDI[T_cell_rich_low_SDI['tool'] == 'MIXCR']\n",
    "df_group2 = T_cell_rich_low_SDI[T_cell_rich_low_SDI['tool'] == 'CATT']\n",
    "\n",
    "stats.ttest_ind(df_group1['confirmed_clonotype_count_tool'],df_group2['confirmed_clonotype_count_tool'])"
   ]
  },
  {
   "cell_type": "code",
   "execution_count": 9,
   "metadata": {},
   "outputs": [
    {
     "data": {
      "text/plain": [
       "Ttest_indResult(statistic=-0.45583685539221214, pvalue=0.6721572368224253)"
      ]
     },
     "execution_count": 9,
     "metadata": {},
     "output_type": "execute_result"
    }
   ],
   "source": [
    "df_group1 = T_cell_rich_low_SDI[T_cell_rich_low_SDI['tool'] == 'IMREP']\n",
    "df_group2 = T_cell_rich_low_SDI[T_cell_rich_low_SDI['tool'] == 'TRUST4']\n",
    "\n",
    "stats.ttest_ind(df_group1['confirmed_clonotype_count_tool'],df_group2['confirmed_clonotype_count_tool'])"
   ]
  },
  {
   "cell_type": "code",
   "execution_count": 10,
   "metadata": {},
   "outputs": [
    {
     "data": {
      "text/plain": [
       "Ttest_indResult(statistic=0.1316409659006896, pvalue=0.9016241071699981)"
      ]
     },
     "execution_count": 10,
     "metadata": {},
     "output_type": "execute_result"
    }
   ],
   "source": [
    "df_group1 = T_cell_rich_low_SDI[T_cell_rich_low_SDI['tool'] == 'IMREP']\n",
    "df_group2 = T_cell_rich_low_SDI[T_cell_rich_low_SDI['tool'] == 'CATT']\n",
    "\n",
    "stats.ttest_ind(df_group1['confirmed_clonotype_count_tool'],df_group2['confirmed_clonotype_count_tool'])"
   ]
  },
  {
   "cell_type": "code",
   "execution_count": 11,
   "metadata": {},
   "outputs": [
    {
     "data": {
      "text/plain": [
       "Ttest_indResult(statistic=0.574088617520101, pvalue=0.596646935114547)"
      ]
     },
     "execution_count": 11,
     "metadata": {},
     "output_type": "execute_result"
    }
   ],
   "source": [
    "df_group1 = T_cell_rich_low_SDI[T_cell_rich_low_SDI['tool'] == 'TRUST4']\n",
    "df_group2 = T_cell_rich_low_SDI[T_cell_rich_low_SDI['tool'] == 'CATT']\n",
    "\n",
    "stats.ttest_ind(df_group1['confirmed_clonotype_count_tool'],df_group2['confirmed_clonotype_count_tool'])"
   ]
  },
  {
   "cell_type": "markdown",
   "metadata": {},
   "source": [
    "## T_cell_rich_high_SDI samples"
   ]
  },
  {
   "cell_type": "code",
   "execution_count": 12,
   "metadata": {},
   "outputs": [],
   "source": [
    "T_cell_rich_high_SDI = clonotype.loc[clonotype['class'] == 'T_cell_rich_high_SDI']"
   ]
  },
  {
   "cell_type": "code",
   "execution_count": 13,
   "metadata": {},
   "outputs": [
    {
     "data": {
      "text/plain": [
       "Ttest_indResult(statistic=-0.9389695167540955, pvalue=0.4009085124598878)"
      ]
     },
     "execution_count": 13,
     "metadata": {},
     "output_type": "execute_result"
    }
   ],
   "source": [
    "df_group1 = T_cell_rich_high_SDI[T_cell_rich_high_SDI['tool'] == 'MIXCR']\n",
    "df_group2 = T_cell_rich_high_SDI[T_cell_rich_high_SDI['tool'] == 'IMREP']\n",
    "\n",
    "stats.ttest_ind(df_group1['confirmed_clonotype_count_tool'],df_group2['confirmed_clonotype_count_tool'])"
   ]
  },
  {
   "cell_type": "code",
   "execution_count": 14,
   "metadata": {},
   "outputs": [
    {
     "data": {
      "text/plain": [
       "Ttest_indResult(statistic=-0.994936274539376, pvalue=0.3760804584211256)"
      ]
     },
     "execution_count": 14,
     "metadata": {},
     "output_type": "execute_result"
    }
   ],
   "source": [
    "df_group1 = T_cell_rich_high_SDI[T_cell_rich_high_SDI['tool'] == 'MIXCR']\n",
    "df_group2 = T_cell_rich_high_SDI[T_cell_rich_high_SDI['tool'] == 'TRUST4']\n",
    "\n",
    "stats.ttest_ind(df_group1['confirmed_clonotype_count_tool'],df_group2['confirmed_clonotype_count_tool'])"
   ]
  },
  {
   "cell_type": "code",
   "execution_count": 15,
   "metadata": {},
   "outputs": [
    {
     "data": {
      "text/plain": [
       "Ttest_indResult(statistic=-0.7348989710095004, pvalue=0.5031609625972828)"
      ]
     },
     "execution_count": 15,
     "metadata": {},
     "output_type": "execute_result"
    }
   ],
   "source": [
    "df_group1 = T_cell_rich_high_SDI[T_cell_rich_high_SDI['tool'] == 'MIXCR']\n",
    "df_group2 = T_cell_rich_high_SDI[T_cell_rich_high_SDI['tool'] == 'CATT']\n",
    "\n",
    "stats.ttest_ind(df_group1['confirmed_clonotype_count_tool'],df_group2['confirmed_clonotype_count_tool'])"
   ]
  },
  {
   "cell_type": "code",
   "execution_count": 16,
   "metadata": {},
   "outputs": [
    {
     "data": {
      "text/plain": [
       "Ttest_indResult(statistic=-0.043003024462574785, pvalue=0.967760151214584)"
      ]
     },
     "execution_count": 16,
     "metadata": {},
     "output_type": "execute_result"
    }
   ],
   "source": [
    "df_group1 = T_cell_rich_high_SDI[T_cell_rich_high_SDI['tool'] == 'IMREP']\n",
    "df_group2 = T_cell_rich_high_SDI[T_cell_rich_high_SDI['tool'] == 'TRUST4']\n",
    "\n",
    "stats.ttest_ind(df_group1['confirmed_clonotype_count_tool'],df_group2['confirmed_clonotype_count_tool'])"
   ]
  },
  {
   "cell_type": "code",
   "execution_count": 17,
   "metadata": {},
   "outputs": [
    {
     "data": {
      "text/plain": [
       "Ttest_indResult(statistic=0.5429608210695903, pvalue=0.6159962382352773)"
      ]
     },
     "execution_count": 17,
     "metadata": {},
     "output_type": "execute_result"
    }
   ],
   "source": [
    "df_group1 = T_cell_rich_high_SDI[T_cell_rich_high_SDI['tool'] == 'IMREP']\n",
    "df_group2 = T_cell_rich_high_SDI[T_cell_rich_high_SDI['tool'] == 'CATT']\n",
    "\n",
    "stats.ttest_ind(df_group1['confirmed_clonotype_count_tool'],df_group2['confirmed_clonotype_count_tool'])"
   ]
  },
  {
   "cell_type": "code",
   "execution_count": 18,
   "metadata": {},
   "outputs": [
    {
     "data": {
      "text/plain": [
       "Ttest_indResult(statistic=0.5964763400871438, pvalue=0.5829742750149459)"
      ]
     },
     "execution_count": 18,
     "metadata": {},
     "output_type": "execute_result"
    }
   ],
   "source": [
    "df_group1 = T_cell_rich_high_SDI[T_cell_rich_high_SDI['tool'] == 'TRUST4']\n",
    "df_group2 = T_cell_rich_high_SDI[T_cell_rich_high_SDI['tool'] == 'CATT']\n",
    "\n",
    "stats.ttest_ind(df_group1['confirmed_clonotype_count_tool'],df_group2['confirmed_clonotype_count_tool'])"
   ]
  },
  {
   "cell_type": "markdown",
   "metadata": {},
   "source": [
    "## T_cell_poor_high_SDI samples"
   ]
  },
  {
   "cell_type": "code",
   "execution_count": 19,
   "metadata": {},
   "outputs": [],
   "source": [
    "T_cell_poor_high_SDI = clonotype.loc[clonotype['class'] == 'T_cell_poor_high_SDI']"
   ]
  },
  {
   "cell_type": "code",
   "execution_count": 20,
   "metadata": {},
   "outputs": [
    {
     "data": {
      "text/plain": [
       "Ttest_indResult(statistic=-0.5426209509956582, pvalue=0.5940463874370556)"
      ]
     },
     "execution_count": 20,
     "metadata": {},
     "output_type": "execute_result"
    }
   ],
   "source": [
    "df_group1 = T_cell_poor_high_SDI[T_cell_poor_high_SDI['tool'] == 'MIXCR']\n",
    "df_group2 = T_cell_poor_high_SDI[T_cell_poor_high_SDI['tool'] == 'IMREP']\n",
    "\n",
    "stats.ttest_ind(df_group1['confirmed_clonotype_count_tool'],df_group2['confirmed_clonotype_count_tool'])"
   ]
  },
  {
   "cell_type": "code",
   "execution_count": 21,
   "metadata": {},
   "outputs": [
    {
     "data": {
      "text/plain": [
       "Ttest_indResult(statistic=-1.5441691388793204, pvalue=0.1399464277774178)"
      ]
     },
     "execution_count": 21,
     "metadata": {},
     "output_type": "execute_result"
    }
   ],
   "source": [
    "df_group1 = T_cell_poor_high_SDI[T_cell_poor_high_SDI['tool'] == 'MIXCR']\n",
    "df_group2 = T_cell_poor_high_SDI[T_cell_poor_high_SDI['tool'] == 'TRUST4']\n",
    "\n",
    "stats.ttest_ind(df_group1['confirmed_clonotype_count_tool'],df_group2['confirmed_clonotype_count_tool'])"
   ]
  },
  {
   "cell_type": "code",
   "execution_count": 22,
   "metadata": {},
   "outputs": [
    {
     "data": {
      "text/plain": [
       "Ttest_indResult(statistic=-1.0390062709182442, pvalue=0.3125581752542148)"
      ]
     },
     "execution_count": 22,
     "metadata": {},
     "output_type": "execute_result"
    }
   ],
   "source": [
    "df_group1 = T_cell_poor_high_SDI[T_cell_poor_high_SDI['tool'] == 'MIXCR']\n",
    "df_group2 = T_cell_poor_high_SDI[T_cell_poor_high_SDI['tool'] == 'CATT']\n",
    "\n",
    "stats.ttest_ind(df_group1['confirmed_clonotype_count_tool'],df_group2['confirmed_clonotype_count_tool'])"
   ]
  },
  {
   "cell_type": "code",
   "execution_count": 23,
   "metadata": {},
   "outputs": [
    {
     "data": {
      "text/plain": [
       "Ttest_indResult(statistic=-1.2089445718795617, pvalue=0.2395172890990509)"
      ]
     },
     "execution_count": 23,
     "metadata": {},
     "output_type": "execute_result"
    }
   ],
   "source": [
    "df_group1 = T_cell_poor_high_SDI[T_cell_poor_high_SDI['tool'] == 'IMREP']\n",
    "df_group2 = T_cell_poor_high_SDI[T_cell_poor_high_SDI['tool'] == 'TRUST4']\n",
    "\n",
    "stats.ttest_ind(df_group1['confirmed_clonotype_count_tool'],df_group2['confirmed_clonotype_count_tool'])"
   ]
  },
  {
   "cell_type": "code",
   "execution_count": 24,
   "metadata": {},
   "outputs": [
    {
     "data": {
      "text/plain": [
       "Ttest_indResult(statistic=-0.486517402263252, pvalue=0.6314118645577844)"
      ]
     },
     "execution_count": 24,
     "metadata": {},
     "output_type": "execute_result"
    }
   ],
   "source": [
    "df_group1 = T_cell_poor_high_SDI[T_cell_poor_high_SDI['tool'] == 'IMREP']\n",
    "df_group2 = T_cell_poor_high_SDI[T_cell_poor_high_SDI['tool'] == 'CATT']\n",
    "\n",
    "stats.ttest_ind(df_group1['confirmed_clonotype_count_tool'],df_group2['confirmed_clonotype_count_tool'])"
   ]
  },
  {
   "cell_type": "code",
   "execution_count": 25,
   "metadata": {},
   "outputs": [
    {
     "data": {
      "text/plain": [
       "Ttest_indResult(statistic=0.7979991018708762, pvalue=0.433400843231587)"
      ]
     },
     "execution_count": 25,
     "metadata": {},
     "output_type": "execute_result"
    }
   ],
   "source": [
    "df_group1 = T_cell_poor_high_SDI[T_cell_poor_high_SDI['tool'] == 'TRUST4']\n",
    "df_group2 = T_cell_poor_high_SDI[T_cell_poor_high_SDI['tool'] == 'CATT']\n",
    "\n",
    "stats.ttest_ind(df_group1['confirmed_clonotype_count_tool'],df_group2['confirmed_clonotype_count_tool'])"
   ]
  },
  {
   "cell_type": "code",
   "execution_count": null,
   "metadata": {},
   "outputs": [],
   "source": []
  }
 ],
 "metadata": {
  "kernelspec": {
   "display_name": "Python 3 (ipykernel)",
   "language": "python",
   "name": "python3"
  },
  "language_info": {
   "codemirror_mode": {
    "name": "ipython",
    "version": 3
   },
   "file_extension": ".py",
   "mimetype": "text/x-python",
   "name": "python",
   "nbconvert_exporter": "python",
   "pygments_lexer": "ipython3",
   "version": "3.7.4"
  }
 },
 "nbformat": 4,
 "nbformat_minor": 2
}
